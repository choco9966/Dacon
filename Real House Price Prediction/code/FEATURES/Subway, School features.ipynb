{
 "cells": [
  {
   "cell_type": "code",
   "execution_count": null,
   "metadata": {},
   "outputs": [],
   "source": [
    "import pandas as pd #Analysis \n",
    "import matplotlib.pyplot as plt #Visulization\n",
    "import seaborn as sns #Visulization\n",
    "import numpy as np #Analysis \n",
    "from scipy.stats import norm #Analysis \n",
    "from sklearn.preprocessing import StandardScaler #Analysis \n",
    "from scipy import stats #Analysis \n",
    "import warnings \n",
    "warnings.filterwarnings('ignore')\n",
    "%matplotlib inline\n",
    "\n",
    "from sklearn.model_selection import KFold\n",
    "from sklearn.metrics import mean_absolute_error\n",
    "import gc\n",
    "import lightgbm as lgb\n",
    "from sklearn.preprocessing import OneHotEncoder\n",
    "from sklearn.metrics import mean_squared_error"
   ]
  },
  {
   "cell_type": "code",
   "execution_count": null,
   "metadata": {},
   "outputs": [],
   "source": [
    "train = pd.read_csv(\"train.csv\")\n",
    "test = pd.read_csv(\"test.csv\")\n",
    "test_idx = test['key']\n",
    "train_len = train.shape[0]"
   ]
  },
  {
   "cell_type": "code",
   "execution_count": null,
   "metadata": {},
   "outputs": [],
   "source": [
    "df_all = pd.concat([train,test])\n",
    "df_all = pd.get_dummies(df_all)"
   ]
  },
  {
   "cell_type": "code",
   "execution_count": null,
   "metadata": {},
   "outputs": [],
   "source": [
    "apartment = df_all.groupby(['apartment_id'])['latitude','longitude','address_by_law'].mean().reset_index()\n",
    "apartment.head()"
   ]
  },
  {
   "cell_type": "code",
   "execution_count": null,
   "metadata": {},
   "outputs": [],
   "source": [
    "# 위도, 경도 거리 계산식\n",
    "from math import cos, asin, sqrt\n",
    "# 단위는 km로 나옴.\n",
    "def distance(lat1, lon1, lat2, lon2):\n",
    "    p = 0.017453292519943295     #Pi/180\n",
    "    a = 0.5 - cos((lat2 - lat1) * p)/2 + cos(lat1 * p) * cos(lat2 * p) * (1 - cos((lon2 - lon1) * p)) / 2\n",
    "    return 12742 * asin(sqrt(a))"
   ]
  },
  {
   "cell_type": "markdown",
   "metadata": {},
   "source": [
    "## 지하철\n",
    "- 반경 0.5, 1km 이내의 지하철 갯수\n",
    "- 반경 0.5, 1km 이내의 지하철 호선 수"
   ]
  },
  {
   "cell_type": "markdown",
   "metadata": {},
   "source": [
    "### 서울 "
   ]
  },
  {
   "cell_type": "code",
   "execution_count": null,
   "metadata": {},
   "outputs": [],
   "source": [
    "subway = pd.read_csv(\"Subways.csv\")\n",
    "subway_seoul = subway[subway['latitude']//1 == 37].reset_index(drop=True)\n",
    "subway_busan = subway[subway['latitude']//1 == 35].reset_index(drop=True)\n",
    "apartment_seoul = apartment[apartment['latitude']//1 == 37].reset_index(drop=True)\n",
    "apartment_busan = apartment[apartment['latitude']//1 == 35].reset_index(drop=True)"
   ]
  },
  {
   "cell_type": "code",
   "execution_count": null,
   "metadata": {},
   "outputs": [],
   "source": [
    "apartment_lat_lon = apartment_seoul[['latitude','longitude']].reset_index(drop=True)\n",
    "subway_lat_lon = subway_seoul[['latitude','longitude']].reset_index(drop=True)"
   ]
  },
  {
   "cell_type": "code",
   "execution_count": null,
   "metadata": {},
   "outputs": [],
   "source": [
    "#서울 지하철 갯수 구하기\n",
    "count_list = []\n",
    "for i in range(0,apartment_lat_lon.shape[0]):    \n",
    "    for lat1,lon1 in [apartment_lat_lon.loc[i].values]:\n",
    "        count1 = 0\n",
    "        count2 = 0\n",
    "        count3 = 0\n",
    "        count4 = 0\n",
    "        count5 = 0\n",
    "        count6 = 0\n",
    "        count7 = 0\n",
    "        count8 = 0\n",
    "        count9 = 0\n",
    "        countKJ = 0\n",
    "        countAP = 0\n",
    "        countUS = 0\n",
    "        countKC = 0\n",
    "        countDL = 0\n",
    "        countND = 0\n",
    "        countall = 0\n",
    "        for j in range(0,subway_lat_lon.shape[0]):\n",
    "            for lat2,lon2 in [subway_lat_lon.loc[j].values]:\n",
    "                if distance(lat1,lon1,lat2,lon2) <= 0.5:\n",
    "                    if '1' in subway_seoul['subway_line'][j]:\n",
    "                        count1 = 1\n",
    "                    if '2' in subway_seoul['subway_line'][j]:\n",
    "                        count2 = 1\n",
    "                    if '3' in subway_seoul['subway_line'][j] :\n",
    "                        count3 = 1\n",
    "                    if '4' in subway_seoul['subway_line'][j] :\n",
    "                        count4 = 1\n",
    "                    if '5' in subway_seoul['subway_line'][j] :\n",
    "                        count5 = 1\n",
    "                    if '6' in subway_seoul['subway_line'][j]:\n",
    "                        count6 = 1\n",
    "                    if '7' in subway_seoul['subway_line'][j] :\n",
    "                        count7 = 1\n",
    "                    if '8' in subway_seoul['subway_line'][j] :\n",
    "                        count8 = 1\n",
    "                    if '9' in subway_seoul['subway_line'][j] :\n",
    "                        count9 = 1\n",
    "                    if 'KJ' in subway_seoul['subway_line'][j] :\n",
    "                        countKJ = 1\n",
    "                    if 'AP' in subway_seoul['subway_line'][j] :\n",
    "                        countAP = 1\n",
    "                    if 'US' in subway_seoul['subway_line'][j] :\n",
    "                        countUS = 1\n",
    "                    if 'KC' in subway_seoul['subway_line'][j] :\n",
    "                        countKC = 1\n",
    "                    if 'DL' in subway_seoul['subway_line'][j] :\n",
    "                        countDL = 1\n",
    "                    if 'ND' in subway_seoul['subway_line'][j] :\n",
    "                        countND = 1\n",
    "                    else:\n",
    "                        countall = 0\n",
    "                else:\n",
    "                    countall = 0\n",
    "                    \n",
    "        countall = count1 + count2 + count3 + count4 + count5 + count6 + count7 + count8 + count9 + countKJ + countAP + countUS + countKC + countDL + countND \n",
    "        count_list.append(countall)\n",
    "apartment_seoul['subwayline_count_0.5'] = count_list"
   ]
  },
  {
   "cell_type": "code",
   "execution_count": null,
   "metadata": {},
   "outputs": [],
   "source": [
    "#서울 지하철 갯수 구하기\n",
    "count_list = []\n",
    "for i in range(0,apartment_lat_lon.shape[0]):    \n",
    "    for lat1,lon1 in [apartment_lat_lon.loc[i].values]:\n",
    "        count1 = 0\n",
    "        count2 = 0\n",
    "        count3 = 0\n",
    "        count4 = 0\n",
    "        count5 = 0\n",
    "        count6 = 0\n",
    "        count7 = 0\n",
    "        count8 = 0\n",
    "        count9 = 0\n",
    "        countKJ = 0\n",
    "        countAP = 0\n",
    "        countUS = 0\n",
    "        countKC = 0\n",
    "        countDL = 0\n",
    "        countND = 0\n",
    "        countall = 0\n",
    "        for j in range(0,subway_lat_lon.shape[0]):\n",
    "            for lat2,lon2 in [subway_lat_lon.loc[j].values]:\n",
    "                if distance(lat1,lon1,lat2,lon2) <= 1:\n",
    "                    if '1' in subway_seoul['subway_line'][j]:\n",
    "                        count1 = 1\n",
    "                    if '2' in subway_seoul['subway_line'][j]:\n",
    "                        count2 = 1\n",
    "                    if '3' in subway_seoul['subway_line'][j] :\n",
    "                        count3 = 1\n",
    "                    if '4' in subway_seoul['subway_line'][j] :\n",
    "                        count4 = 1\n",
    "                    if '5' in subway_seoul['subway_line'][j] :\n",
    "                        count5 = 1\n",
    "                    if '6' in subway_seoul['subway_line'][j]:\n",
    "                        count6 = 1\n",
    "                    if '7' in subway_seoul['subway_line'][j] :\n",
    "                        count7 = 1\n",
    "                    if '8' in subway_seoul['subway_line'][j] :\n",
    "                        count8 = 1\n",
    "                    if '9' in subway_seoul['subway_line'][j] :\n",
    "                        count9 = 1\n",
    "                    if 'KJ' in subway_seoul['subway_line'][j] :\n",
    "                        countKJ = 1\n",
    "                    if 'AP' in subway_seoul['subway_line'][j] :\n",
    "                        countAP = 1\n",
    "                    if 'US' in subway_seoul['subway_line'][j] :\n",
    "                        countUS = 1\n",
    "                    if 'KC' in subway_seoul['subway_line'][j] :\n",
    "                        countKC = 1\n",
    "                    if 'DL' in subway_seoul['subway_line'][j] :\n",
    "                        countDL = 1\n",
    "                    if 'ND' in subway_seoul['subway_line'][j] :\n",
    "                        countND = 1\n",
    "                    else:\n",
    "                        countall = 0\n",
    "                else:\n",
    "                    countall = 0\n",
    "                    \n",
    "        countall = count1 + count2 + count3 + count4 + count5 + count6 + count7 + count8 + count9 + countKJ + countAP + countUS + countKC + countDL + countND \n",
    "        count_list.append(countall)\n",
    "apartment_seoul['subwayline_count_1'] = count_list"
   ]
  },
  {
   "cell_type": "code",
   "execution_count": null,
   "metadata": {},
   "outputs": [],
   "source": [
    "count_list = []\n",
    "for i in range(0,apartment_lat_lon.shape[0]):    \n",
    "    for lat1,lon1 in [apartment_lat_lon.loc[i].values]:\n",
    "        count = 0\n",
    "        for j in range(0,subway_lat_lon.shape[0]):\n",
    "            for lat2,lon2 in [subway_lat_lon.loc[j].values]:\n",
    "                if distance(lat1,lon1,lat2,lon2) <= 0.5:\n",
    "                    count = count + 1\n",
    "        count_list.append(count)\n",
    "apartment_seoul['subway_count_0.5'] = count_list"
   ]
  },
  {
   "cell_type": "code",
   "execution_count": null,
   "metadata": {},
   "outputs": [],
   "source": [
    "count_list = []\n",
    "for i in range(0,apartment_lat_lon.shape[0]):    \n",
    "    for lat1,lon1 in [apartment_lat_lon.loc[i].values]:\n",
    "        count = 0\n",
    "        for j in range(0,subway_lat_lon.shape[0]):\n",
    "            for lat2,lon2 in [subway_lat_lon.loc[j].values]:\n",
    "                if distance(lat1,lon1,lat2,lon2) <= 1:\n",
    "                    count = count + 1\n",
    "        count_list.append(count)\n",
    "apartment_seoul['subway_count_1'] = count_list"
   ]
  },
  {
   "cell_type": "markdown",
   "metadata": {},
   "source": [
    "### 부산 "
   ]
  },
  {
   "cell_type": "code",
   "execution_count": null,
   "metadata": {},
   "outputs": [],
   "source": [
    "apartment_lat_lon = apartment_busan[['latitude','longitude']].reset_index(drop=True)\n",
    "subway_lat_lon = subway_busan[['latitude','longitude']].reset_index(drop=True)"
   ]
  },
  {
   "cell_type": "code",
   "execution_count": null,
   "metadata": {},
   "outputs": [],
   "source": [
    "#부산 지하철 갯수 구하기\n",
    "# BK, B1,B2,B3 ,B4, BD\n",
    "count_list = []\n",
    "for i in range(0,apartment_lat_lon.shape[0]):    \n",
    "    for lat1,lon1 in [apartment_lat_lon.loc[i].values]:\n",
    "        countBK = 0\n",
    "        countB1 = 0\n",
    "        countB2 = 0\n",
    "        countB3 = 0\n",
    "        countB4 = 0\n",
    "        countBD = 0\n",
    "        countall = 0\n",
    "        for j in range(0,subway_lat_lon.shape[0]):\n",
    "            for lat2,lon2 in [subway_lat_lon.loc[j].values]:\n",
    "                if distance(lat1,lon1,lat2,lon2) <= 0.5:\n",
    "                    if 'B1' in subway_busan['subway_line'][j]:\n",
    "                        countB1 = 1\n",
    "                    if 'B2' in subway_busan['subway_line'][j]:\n",
    "                        countB2 = 1\n",
    "                    if 'B3' in subway_busan['subway_line'][j] :\n",
    "                        countB3 = 1\n",
    "                    if 'B4' in subway_busan['subway_line'][j] :\n",
    "                        countB4 = 1\n",
    "                    if 'BK' in subway_busan['subway_line'][j] :\n",
    "                        countBK = 1\n",
    "                    if 'BD' in subway_busan['subway_line'][j]:\n",
    "                        countBD = 1\n",
    "                    else:\n",
    "                        countall = 0\n",
    "                else:\n",
    "                    countall = 0\n",
    "                    \n",
    "        countall = countB1 + countB2 + countB3 + countB4 + countBD + countBK \n",
    "        count_list.append(countall)\n",
    "apartment_busan['subwayline_count_0.5'] = count_list"
   ]
  },
  {
   "cell_type": "code",
   "execution_count": null,
   "metadata": {},
   "outputs": [],
   "source": [
    "#부산 지하철 갯수 구하기\n",
    "# BK, B1,B2,B3 ,B4, BD\n",
    "count_list = []\n",
    "for i in range(0,apartment_lat_lon.shape[0]):    \n",
    "    for lat1,lon1 in [apartment_lat_lon.loc[i].values]:\n",
    "        countBK = 0\n",
    "        countB1 = 0\n",
    "        countB2 = 0\n",
    "        countB3 = 0\n",
    "        countB4 = 0\n",
    "        countBD = 0\n",
    "        countall = 0\n",
    "        for j in range(0,subway_lat_lon.shape[0]):\n",
    "            for lat2,lon2 in [subway_lat_lon.loc[j].values]:\n",
    "                if distance(lat1,lon1,lat2,lon2) <= 1:\n",
    "                    if 'B1' in subway_busan['subway_line'][j]:\n",
    "                        countB1 = 1\n",
    "                    if 'B2' in subway_busan['subway_line'][j]:\n",
    "                        countB2 = 1\n",
    "                    if 'B3' in subway_busan['subway_line'][j] :\n",
    "                        countB3 = 1\n",
    "                    if 'B4' in subway_busan['subway_line'][j] :\n",
    "                        countB4 = 1\n",
    "                    if 'BK' in subway_busan['subway_line'][j] :\n",
    "                        countBK = 1\n",
    "                    if 'BD' in subway_busan['subway_line'][j]:\n",
    "                        countBD = 1\n",
    "                    else:\n",
    "                        countall = 0\n",
    "                else:\n",
    "                    countall = 0\n",
    "                    \n",
    "        countall = countB1 + countB2 + countB3 + countB4 + countBD + countBK \n",
    "        count_list.append(countall)\n",
    "apartment_busan['subwayline_count_1'] = count_list"
   ]
  },
  {
   "cell_type": "code",
   "execution_count": null,
   "metadata": {},
   "outputs": [],
   "source": [
    "count_list = []\n",
    "for i in range(0,apartment_lat_lon.shape[0]):    \n",
    "    for lat1,lon1 in [apartment_lat_lon.loc[i].values]:\n",
    "        count = 0\n",
    "        for j in range(0,subway_lat_lon.shape[0]):\n",
    "            for lat2,lon2 in [subway_lat_lon.loc[j].values]:\n",
    "                if distance(lat1,lon1,lat2,lon2) <= 0.5:\n",
    "                    count = count + 1\n",
    "        count_list.append(count)\n",
    "apartment_busan['subway_count_0.5'] = count_list"
   ]
  },
  {
   "cell_type": "code",
   "execution_count": null,
   "metadata": {},
   "outputs": [],
   "source": [
    "count_list = []\n",
    "for i in range(0,apartment_lat_lon.shape[0]):    \n",
    "    for lat1,lon1 in [apartment_lat_lon.loc[i].values]:\n",
    "        count = 0\n",
    "        for j in range(0,subway_lat_lon.shape[0]):\n",
    "            for lat2,lon2 in [subway_lat_lon.loc[j].values]:\n",
    "                if distance(lat1,lon1,lat2,lon2) <= 1:\n",
    "                    count = count + 1\n",
    "        count_list.append(count)\n",
    "apartment_busan['subway_count_1'] = count_list"
   ]
  },
  {
   "cell_type": "code",
   "execution_count": null,
   "metadata": {},
   "outputs": [],
   "source": [
    "apartment = pd.concat([apartment_seoul,apartment_busan])\n",
    "apartment.to_csv(\"Apartment_subway.csv\",index=False)"
   ]
  },
  {
   "cell_type": "markdown",
   "metadata": {},
   "source": [
    "## 학교\n",
    "- 반경 0.5km, 1km내의 초, 중, 고등학교의 수\n",
    "- 반경 0.5km, 1km내에 초, 중, 고 중 몇개가 있는지 "
   ]
  },
  {
   "cell_type": "code",
   "execution_count": null,
   "metadata": {},
   "outputs": [],
   "source": [
    "school = pd.read_csv(\"Schools.csv\")\n",
    "train = pd.read_csv(\"train.csv\")\n",
    "test = pd.read_csv(\"test.csv\")\n",
    "df_all = pd.concat([train,test])"
   ]
  },
  {
   "cell_type": "code",
   "execution_count": null,
   "metadata": {},
   "outputs": [],
   "source": [
    "from math import cos, asin, sqrt\n",
    "# 단위는 km로 나옴.\n",
    "def distance(lat1, lon1, lat2, lon2):\n",
    "    p = 0.017453292519943295     #Pi/180\n",
    "    a = 0.5 - cos((lat2 - lat1) * p)/2 + cos(lat1 * p) * cos(lat2 * p) * (1 - cos((lon2 - lon1) * p)) / 2\n",
    "    return 12742 * asin(sqrt(a))"
   ]
  },
  {
   "cell_type": "code",
   "execution_count": null,
   "metadata": {},
   "outputs": [],
   "source": [
    "school_seoul = school[school['latitude']//1 == 37].reset_index(drop=True)\n",
    "school_busan = school[school['latitude']//1 == 35].reset_index(drop=True)\n",
    "apartment_seoul = apartment[apartment['latitude']//1 == 37].reset_index(drop=True)\n",
    "apartment_busan = apartment[apartment['latitude']//1 == 35].reset_index(drop=True)"
   ]
  },
  {
   "cell_type": "code",
   "execution_count": null,
   "metadata": {},
   "outputs": [],
   "source": [
    "#서울 학교갯수 0.5km\n",
    "apartment_lat_lon = apartment_seoul[['latitude','longitude']].reset_index(drop=True)\n",
    "school_seoul_lat_lon = school_seoul[['latitude','longitude']].reset_index(drop=True)\n",
    "\n",
    "count_list1 = []\n",
    "count_list2 = []\n",
    "count_list3 = []\n",
    "\n",
    "for i in range(0,apartment_lat_lon.shape[0]):    \n",
    "    for lat1,lon1 in [apartment_lat_lon.loc[i].values]:\n",
    "        count1 = 0\n",
    "        count2 = 0\n",
    "        count3 = 0\n",
    "\n",
    "        for j in range(0,school_seoul_lat_lon.shape[0]):\n",
    "            for lat2,lon2 in [school_seoul_lat_lon.loc[j].values]:\n",
    "                if distance(lat1,lon1,lat2,lon2) <= 0.5:\n",
    "                    if school_seoul['school_class'][j] == 'elementary':\n",
    "                        count1 = count1+1\n",
    "\n",
    "                    elif school_seoul['school_class'][j] == 'middle':\n",
    "                        count2 = count2+1\n",
    "                    else :\n",
    "                        count3 = count3+1\n",
    "                    \n",
    "        count_list1.append(count1)\n",
    "        count_list2.append(count2)\n",
    "        count_list3.append(count3)\n",
    "apartment_seoul['elementary_0.5'] = count_list1\n",
    "apartment_seoul['middle_0.5'] = count_list2\n",
    "apartment_seoul['high_0.5'] = count_list3"
   ]
  },
  {
   "cell_type": "code",
   "execution_count": null,
   "metadata": {},
   "outputs": [],
   "source": [
    "#서울 학교갯수 1km\n",
    "apartment_lat_lon = apartment_seoul[['latitude','longitude']].reset_index(drop=True)\n",
    "school_seoul_lat_lon = school_seoul[['latitude','longitude']].reset_index(drop=True)\n",
    "\n",
    "count_list1 = []\n",
    "count_list2 = []\n",
    "count_list3 = []\n",
    "\n",
    "for i in range(0,apartment_lat_lon.shape[0]):    \n",
    "    for lat1,lon1 in [apartment_lat_lon.loc[i].values]:\n",
    "        count1 = 0\n",
    "        count2 = 0\n",
    "        count3 = 0\n",
    "\n",
    "        for j in range(0,school_seoul_lat_lon.shape[0]):\n",
    "            for lat2,lon2 in [school_seoul_lat_lon.loc[j].values]:\n",
    "                if distance(lat1,lon1,lat2,lon2) <= 1:\n",
    "                    if school_seoul['school_class'][j] == 'elementary':\n",
    "                        count1 = count1+1 \n",
    "\n",
    "                    elif school_seoul['school_class'][j] == 'middle':\n",
    "                        count2 = count2+1\n",
    "                    else :\n",
    "                        count3 = count3+1\n",
    "                    \n",
    "        count_list1.append(count1)\n",
    "        count_list2.append(count2)\n",
    "        count_list3.append(count3)\n",
    "apartment_seoul['elementary_1'] = count_list1\n",
    "apartment_seoul['middle_1'] = count_list2\n",
    "apartment_seoul['high_1'] = count_list3"
   ]
  },
  {
   "cell_type": "code",
   "execution_count": null,
   "metadata": {},
   "outputs": [],
   "source": [
    "#부산학교갯수 0.5km\n",
    "apartment_lat_lon = apartment_busan[['latitude','longitude']].reset_index(drop=True)\n",
    "school_busan_lat_lon = school_busan[['latitude','longitude']].reset_index(drop=True)\n",
    "\n",
    "count_list1 = []\n",
    "count_list2 = []\n",
    "count_list3 = []\n",
    "\n",
    "for i in range(0,apartment_lat_lon.shape[0]):    \n",
    "    for lat1,lon1 in [apartment_lat_lon.loc[i].values]:\n",
    "        count1 = 0\n",
    "        count2 = 0\n",
    "        count3 = 0\n",
    "\n",
    "        for j in range(0,school_busan_lat_lon.shape[0]):\n",
    "            for lat2,lon2 in [school_busan_lat_lon.loc[j].values]:\n",
    "                if distance(lat1,lon1,lat2,lon2) <= 0.5:\n",
    "                    if school_busan['school_class'][j] == 'elementary':\n",
    "                        count1 = count1+1\n",
    "\n",
    "                    elif school_busan['school_class'][j] == 'middle':\n",
    "                        count2 = count2+1\n",
    "                    else :\n",
    "                        count3 = count3+1\n",
    "                    \n",
    "        count_list1.append(count1)\n",
    "        count_list2.append(count2)\n",
    "        count_list3.append(count3)\n",
    "apartment_busan['elementary_0.5'] = count_list1\n",
    "apartment_busan['middle_0.5'] = count_list2\n",
    "apartment_busan['high_0.5'] = count_list3"
   ]
  },
  {
   "cell_type": "code",
   "execution_count": null,
   "metadata": {},
   "outputs": [],
   "source": [
    "#부산 학교갯수 1km\n",
    "apartment_lat_lon = apartment_busan[['latitude','longitude']].reset_index(drop=True)\n",
    "school_busan_lat_lon = school_busan[['latitude','longitude']].reset_index(drop=True)\n",
    "\n",
    "count_list1 = []\n",
    "count_list2 = []\n",
    "count_list3 = []\n",
    "\n",
    "for i in range(0,apartment_lat_lon.shape[0]):    \n",
    "    for lat1,lon1 in [apartment_lat_lon.loc[i].values]:\n",
    "        count1 = 0\n",
    "        count2 = 0\n",
    "        count3 = 0\n",
    "\n",
    "        for j in range(0,school_busan_lat_lon.shape[0]):\n",
    "            for lat2,lon2 in [school_busan_lat_lon.loc[j].values]:\n",
    "                if distance(lat1,lon1,lat2,lon2) <= 1:\n",
    "                    if school_busan['school_class'][j] == 'elementary':\n",
    "                        count1 = count1+1\n",
    "\n",
    "                    elif school_busan['school_class'][j] == 'middle':\n",
    "                        count2 = count2+1\n",
    "\n",
    "                    else :\n",
    "                        count3 = count3+1\n",
    "                    \n",
    "        count_list1.append(count1)\n",
    "        count_list2.append(count2)\n",
    "        count_list3.append(count3)\n",
    "apartment_busan['elementary_1'] = count_list1\n",
    "apartment_busan['middle_1'] = count_list2\n",
    "apartment_busan['high_1'] = count_list3"
   ]
  },
  {
   "cell_type": "code",
   "execution_count": null,
   "metadata": {},
   "outputs": [],
   "source": [
    "apartment_seoul['total_0.5'] = apartment_seoul['elementary_0.5'] + apartment_seoul['middle_0.5'] + apartment_seoul['high_0.5']\n",
    "apartment_busan['total_0.5'] = apartment_busan['elementary_0.5'] + apartment_busan['middle_0.5'] + apartment_busan['high_0.5']\n",
    "apartment_seoul['total_1'] = apartment_seoul['elementary_1'] + apartment_seoul['middle_1'] + apartment_seoul['high_1']\n",
    "apartment_busan['total_1'] = apartment_busan['elementary_1'] + apartment_busan['middle_1'] + apartment_busan['high_1']"
   ]
  },
  {
   "cell_type": "code",
   "execution_count": null,
   "metadata": {},
   "outputs": [],
   "source": [
    "apartment = pd.concat([apartment_seoul,apartment_busan])\n",
    "apartment.head(5)"
   ]
  },
  {
   "cell_type": "code",
   "execution_count": null,
   "metadata": {},
   "outputs": [],
   "source": [
    "apartment['elementary_0.5'] = apartment['elementary_0.5'].apply(lambda x : 1 if x >= 1 else 0)\n",
    "apartment['middle_0.5'] = apartment['middle_0.5'].apply(lambda x : 1 if x >= 1 else 0)\n",
    "apartment['high_0.5'] = apartment['high_0.5'].apply(lambda x : 1 if x >= 1 else 0)\n",
    "apartment['total_0.5'] = apartment['elementary_0.5'] + apartment['middle_0.5'] + apartment['high_0.5']\n",
    "apartment['elementary_1'] = apartment['elementary_1'].apply(lambda x : 1 if x >= 1 else 0)\n",
    "apartment['middle_1'] = apartment['middle_1'].apply(lambda x : 1 if x >= 1 else 0)\n",
    "apartment['high_1'] = apartment['high_1'].apply(lambda x : 1 if x >= 1 else 0)\n",
    "apartment['total_1'] = apartment['elementary_1'] + apartment['middle_1'] + apartment['high_1']"
   ]
  },
  {
   "cell_type": "code",
   "execution_count": null,
   "metadata": {},
   "outputs": [],
   "source": [
    "apartment.to_csv(\"apartment_school.csv\",index=False)"
   ]
  },
  {
   "cell_type": "markdown",
   "metadata": {},
   "source": [
    "## 지하철 및 학교에서 최소거리"
   ]
  },
  {
   "cell_type": "code",
   "execution_count": null,
   "metadata": {},
   "outputs": [],
   "source": [
    "train = pd.read_csv(\"train.csv\")\n",
    "test = pd.read_csv(\"test.csv\")\n",
    "test_idx = test['key']\n",
    "train_len = train.shape[0]"
   ]
  },
  {
   "cell_type": "code",
   "execution_count": null,
   "metadata": {},
   "outputs": [],
   "source": [
    "df_all = pd.concat([train,test])\n",
    "apartment = df_all.groupby(['apartment_id'])['latitude','longitude','address_by_law'].mean().reset_index()"
   ]
  },
  {
   "cell_type": "code",
   "execution_count": null,
   "metadata": {},
   "outputs": [],
   "source": [
    "subway = pd.read_csv(\"Subways.csv\")\n",
    "subway.head()"
   ]
  },
  {
   "cell_type": "code",
   "execution_count": null,
   "metadata": {},
   "outputs": [],
   "source": [
    "from math import cos, asin, sqrt\n",
    "# 단위는 km로 나옴.\n",
    "def distance(lat1, lon1, lat2, lon2):\n",
    "    p = 0.017453292519943295     #Pi/180\n",
    "    a = 0.5 - cos((lat2 - lat1) * p)/2 + cos(lat1 * p) * cos(lat2 * p) * (1 - cos((lon2 - lon1) * p)) / 2\n",
    "    return 12742 * asin(sqrt(a))"
   ]
  },
  {
   "cell_type": "markdown",
   "metadata": {},
   "source": [
    "### 지하철에서 최소거리 계산"
   ]
  },
  {
   "cell_type": "code",
   "execution_count": null,
   "metadata": {},
   "outputs": [],
   "source": [
    "subway_seoul = subway[subway['latitude']//1 == 37].reset_index(drop=True)\n",
    "subway_busan = subway[subway['latitude']//1 == 35].reset_index(drop=True)\n",
    "apartment_seoul = apartment[apartment['latitude']//1 == 37].reset_index(drop=True)\n",
    "apartment_busan = apartment[apartment['latitude']//1 == 35].reset_index(drop=True)"
   ]
  },
  {
   "cell_type": "code",
   "execution_count": null,
   "metadata": {},
   "outputs": [],
   "source": [
    "apartment_lat_lon = apartment_seoul[['latitude','longitude']].reset_index(drop=True)\n",
    "subway_lat_lon = subway_seoul[['latitude','longitude']].reset_index(drop=True)"
   ]
  },
  {
   "cell_type": "code",
   "execution_count": null,
   "metadata": {},
   "outputs": [],
   "source": [
    "### 서울-지하철에서 최소거리\n",
    "distance_list = []\n",
    "for i in range(0,apartment_lat_lon.shape[0]):    \n",
    "    for lat1,lon1 in [apartment_lat_lon.loc[i].values]:\n",
    "        min_distance = 100000000\n",
    "        for j in range(0,subway_lat_lon.shape[0]):\n",
    "            for lat2,lon2 in [subway_lat_lon.loc[j].values]:\n",
    "                distance1 = distance(lat1,lon1,lat2,lon2)\n",
    "                if distance1 < min_distance:\n",
    "                    min_distance = distance1\n",
    "        distance_list.append(min_distance)\n",
    "apartment_seoul['subway_min_distance'] = distance_list"
   ]
  },
  {
   "cell_type": "code",
   "execution_count": null,
   "metadata": {},
   "outputs": [],
   "source": [
    "apartment_lat_lon = apartment_busan[['latitude','longitude']].reset_index(drop=True)\n",
    "subway_lat_lon = subway_busan[['latitude','longitude']].reset_index(drop=True)"
   ]
  },
  {
   "cell_type": "code",
   "execution_count": null,
   "metadata": {},
   "outputs": [],
   "source": [
    "### 부산-지하철에서 최소거리\n",
    "distance_list = []\n",
    "for i in range(0,apartment_lat_lon.shape[0]):    \n",
    "    for lat1,lon1 in [apartment_lat_lon.loc[i].values]:\n",
    "        min_distance = 100000000\n",
    "        for j in range(0,subway_lat_lon.shape[0]):\n",
    "            for lat2,lon2 in [subway_lat_lon.loc[j].values]:\n",
    "                distance1 = distance(lat1,lon1,lat2,lon2)\n",
    "                if distance1 < min_distance:\n",
    "                    min_distance = distance1\n",
    "        distance_list.append(min_distance)\n",
    "apartment_busan['subway_min_distance'] = distance_list"
   ]
  },
  {
   "cell_type": "markdown",
   "metadata": {},
   "source": [
    "### 초,중,고에서 최소거리 계산"
   ]
  },
  {
   "cell_type": "code",
   "execution_count": null,
   "metadata": {},
   "outputs": [],
   "source": [
    "apartment_lat_lon = apartment_seoul[['latitude','longitude']].reset_index(drop=True)\n",
    "school = pd.read_csv(\"Schools.csv\")\n",
    "school_seoul = school[school['latitude']//1 == 37].reset_index(drop=True)\n",
    "school_busan = school[school['latitude']//1 == 35].reset_index(drop=True)"
   ]
  },
  {
   "cell_type": "markdown",
   "metadata": {},
   "source": [
    "서울"
   ]
  },
  {
   "cell_type": "code",
   "execution_count": null,
   "metadata": {},
   "outputs": [],
   "source": [
    "school_seoul_ele = school_seoul[school_seoul['school_class']=='elementary']\n",
    "school_seoul_lat_lon = school_seoul_ele[['latitude','longitude']].reset_index(drop=True)"
   ]
  },
  {
   "cell_type": "code",
   "execution_count": null,
   "metadata": {},
   "outputs": [],
   "source": [
    "### 서울-초등학교 최소거리\n",
    "\n",
    "distance_list = []\n",
    "for i in range(0,apartment_lat_lon.shape[0]):    \n",
    "    for lat1,lon1 in [apartment_lat_lon.loc[i].values]:\n",
    "        min_distance = 100000000\n",
    "        for j in range(0,school_seoul_lat_lon.shape[0]):\n",
    "            for lat2,lon2 in [school_seoul_lat_lon.loc[j].values]:\n",
    "                distance1 = distance(lat1,lon1,lat2,lon2)\n",
    "                if distance1 < min_distance:\n",
    "                    min_distance = distance1\n",
    "        distance_list.append(min_distance)\n",
    "apartment_seoul['min_distance_ele'] = distance_list"
   ]
  },
  {
   "cell_type": "code",
   "execution_count": null,
   "metadata": {},
   "outputs": [],
   "source": [
    "school_seoul_middle = school_seoul[school_seoul['school_class']=='middle']\n",
    "school_seoul_lat_lon = school_seoul_middle[['latitude','longitude']].reset_index(drop=True)"
   ]
  },
  {
   "cell_type": "code",
   "execution_count": null,
   "metadata": {},
   "outputs": [],
   "source": [
    "### 서울-중학교 최소거리\n",
    "\n",
    "distance_list = []\n",
    "for i in range(0,apartment_lat_lon.shape[0]):    \n",
    "    for lat1,lon1 in [apartment_lat_lon.loc[i].values]:\n",
    "        min_distance = 100000000\n",
    "        for j in range(0,school_seoul_lat_lon.shape[0]):\n",
    "            for lat2,lon2 in [school_seoul_lat_lon.loc[j].values]:\n",
    "                distance1 = distance(lat1,lon1,lat2,lon2)\n",
    "                if distance1 < min_distance:\n",
    "                    min_distance = distance1\n",
    "        distance_list.append(min_distance)\n",
    "apartment_seoul['min_distance_middle'] = distance_list"
   ]
  },
  {
   "cell_type": "code",
   "execution_count": null,
   "metadata": {},
   "outputs": [],
   "source": [
    "school_seoul_high = school_seoul[school_seoul['school_class']=='high']\n",
    "school_seoul_lat_lon = school_seoul_high[['latitude','longitude']].reset_index(drop=True)"
   ]
  },
  {
   "cell_type": "code",
   "execution_count": null,
   "metadata": {},
   "outputs": [],
   "source": [
    "### 서울-고등학교 최소거리\n",
    "\n",
    "distance_list = []\n",
    "for i in range(0,apartment_lat_lon.shape[0]):    \n",
    "    for lat1,lon1 in [apartment_lat_lon.loc[i].values]:\n",
    "        min_distance = 100000000\n",
    "        for j in range(0,school_seoul_lat_lon.shape[0]):\n",
    "            for lat2,lon2 in [school_seoul_lat_lon.loc[j].values]:\n",
    "                distance1 = distance(lat1,lon1,lat2,lon2)\n",
    "                if distance1 < min_distance:\n",
    "                    min_distance = distance1\n",
    "        distance_list.append(min_distance)\n",
    "apartment_seoul['min_distance_high'] = distance_list"
   ]
  },
  {
   "cell_type": "markdown",
   "metadata": {},
   "source": [
    "부산"
   ]
  },
  {
   "cell_type": "code",
   "execution_count": null,
   "metadata": {},
   "outputs": [],
   "source": [
    "apartment_lat_lon = apartment_busan[['latitude','longitude']].reset_index(drop=True)"
   ]
  },
  {
   "cell_type": "code",
   "execution_count": null,
   "metadata": {},
   "outputs": [],
   "source": [
    "school_busan_ele = school_busan[school_busan['school_class']=='elementary']\n",
    "school_busan_lat_lon = school_busan_ele[['latitude','longitude']].reset_index(drop=True)"
   ]
  },
  {
   "cell_type": "code",
   "execution_count": null,
   "metadata": {},
   "outputs": [],
   "source": [
    "### 부산-초등학교 최소거리\n",
    "distance_list = []\n",
    "for i in range(0,apartment_lat_lon.shape[0]):    \n",
    "    for lat1,lon1 in [apartment_lat_lon.loc[i].values]:\n",
    "        min_distance = 100000000\n",
    "        for j in range(0,school_busan_lat_lon.shape[0]):\n",
    "            for lat2,lon2 in [school_busan_lat_lon.loc[j].values]:\n",
    "                distance1 = distance(lat1,lon1,lat2,lon2)\n",
    "                if distance1 < min_distance:\n",
    "                    min_distance = distance1\n",
    "        distance_list.append(min_distance)\n",
    "apartment_busan['min_distance_ele'] = distance_list"
   ]
  },
  {
   "cell_type": "code",
   "execution_count": null,
   "metadata": {},
   "outputs": [],
   "source": [
    "school_busan_middle = school_busan[school_busan['school_class']=='middle']\n",
    "school_busan_lat_lon = school_busan_middle[['latitude','longitude']].reset_index(drop=True)"
   ]
  },
  {
   "cell_type": "code",
   "execution_count": null,
   "metadata": {},
   "outputs": [],
   "source": [
    "### 부산-중학교 최소거리\n",
    "distance_list = []\n",
    "for i in range(0,apartment_lat_lon.shape[0]):    \n",
    "    for lat1,lon1 in [apartment_lat_lon.loc[i].values]:\n",
    "        min_distance = 100000000\n",
    "        for j in range(0,school_busan_lat_lon.shape[0]):\n",
    "            for lat2,lon2 in [school_busan_lat_lon.loc[j].values]:\n",
    "                distance1 = distance(lat1,lon1,lat2,lon2)\n",
    "                if distance1 < min_distance:\n",
    "                    min_distance = distance1\n",
    "        distance_list.append(min_distance)\n",
    "apartment_busan['min_distance_middle'] = distance_list"
   ]
  },
  {
   "cell_type": "code",
   "execution_count": null,
   "metadata": {},
   "outputs": [],
   "source": [
    "school_busan_high = school_busan[school_busan['school_class']=='high']\n",
    "school_busan_lat_lon = school_busan_high[['latitude','longitude']].reset_index(drop=True)"
   ]
  },
  {
   "cell_type": "code",
   "execution_count": null,
   "metadata": {},
   "outputs": [],
   "source": [
    "### 부산-고등학교 최소거리\n",
    "distance_list = []\n",
    "for i in range(0,apartment_lat_lon.shape[0]):    \n",
    "    for lat1,lon1 in [apartment_lat_lon.loc[i].values]:\n",
    "        min_distance = 100000000\n",
    "        for j in range(0,school_busan_lat_lon.shape[0]):\n",
    "            for lat2,lon2 in [school_busan_lat_lon.loc[j].values]:\n",
    "                distance1 = distance(lat1,lon1,lat2,lon2)\n",
    "                if distance1 < min_distance:\n",
    "                    min_distance = distance1\n",
    "        distance_list.append(min_distance)\n",
    "apartment_busan['min_distance_high'] = distance_list"
   ]
  },
  {
   "cell_type": "code",
   "execution_count": null,
   "metadata": {},
   "outputs": [],
   "source": [
    "apartment = pd.concat([apartment_seoul,apartment_busan])\n",
    "apartment.to_csv(\"min_distance_apartment.csv\",index=False)"
   ]
  },
  {
   "cell_type": "markdown",
   "metadata": {},
   "source": [
    "## 강남 및 해운대에서 최소거리"
   ]
  },
  {
   "cell_type": "code",
   "execution_count": null,
   "metadata": {},
   "outputs": [],
   "source": [
    "train = pd.read_csv(\"train.csv\")\n",
    "test = pd.read_csv(\"test.csv\")\n",
    "test_idx = test['key']\n",
    "train_len = train.shape[0]\n",
    "\n",
    "df_all = pd.concat([train,test])\n",
    "apartment = df_all.groupby(['apartment_id'])['latitude','longitude','address_by_law'].mean().reset_index()"
   ]
  },
  {
   "cell_type": "code",
   "execution_count": null,
   "metadata": {},
   "outputs": [],
   "source": [
    "subway = pd.read_csv(\"Subways.csv\")\n",
    "#강남역 위도/경도 37.4979312,127.0232248\n",
    "#해운대역 위도/경도 35.1816217,129.1751215"
   ]
  },
  {
   "cell_type": "code",
   "execution_count": null,
   "metadata": {},
   "outputs": [],
   "source": [
    "from math import cos, asin, sqrt\n",
    "# 단위는 km로 나옴.\n",
    "def distance(lat1, lon1, lat2, lon2):\n",
    "    p = 0.017453292519943295     #Pi/180\n",
    "    a = 0.5 - cos((lat2 - lat1) * p)/2 + cos(lat1 * p) * cos(lat2 * p) * (1 - cos((lon2 - lon1) * p)) / 2\n",
    "    return 12742 * asin(sqrt(a))"
   ]
  },
  {
   "cell_type": "code",
   "execution_count": null,
   "metadata": {},
   "outputs": [],
   "source": [
    "subway_seoul = subway[subway['latitude']//1 == 37].reset_index(drop=True)\n",
    "subway_busan = subway[subway['latitude']//1 == 35].reset_index(drop=True)\n",
    "apartment_seoul = apartment[apartment['latitude']//1 == 37].reset_index(drop=True)\n",
    "apartment_busan = apartment[apartment['latitude']//1 == 35].reset_index(drop=True)"
   ]
  },
  {
   "cell_type": "code",
   "execution_count": null,
   "metadata": {},
   "outputs": [],
   "source": [
    "apartment_lat_lon = apartment_seoul[['latitude','longitude']].reset_index(drop=True)"
   ]
  },
  {
   "cell_type": "code",
   "execution_count": null,
   "metadata": {},
   "outputs": [],
   "source": [
    "### 강남역에서 거리 \n",
    "gangnam_dist = []\n",
    "for i in range(0,apartment_lat_lon.shape[0]):    \n",
    "    for lat1,lon1 in [apartment_lat_lon.loc[i].values]:\n",
    "        gangnam_dist.append(distance(lat1,lon1,37.4979312,127.0232248))\n",
    "apartment_seoul['gangnam_dist'] = gangnam_dist"
   ]
  },
  {
   "cell_type": "code",
   "execution_count": null,
   "metadata": {},
   "outputs": [],
   "source": [
    "apartment_lat_lon = apartment_busan[['latitude','longitude']].reset_index(drop=True)"
   ]
  },
  {
   "cell_type": "code",
   "execution_count": null,
   "metadata": {},
   "outputs": [],
   "source": [
    "### 해운대역에서 거리 - 편의상 변수명은 gangnam으로 지정.\n",
    "hyeunde_dist = []\n",
    "for i in range(0,apartment_lat_lon.shape[0]):    \n",
    "    for lat1,lon1 in [apartment_lat_lon.loc[i].values]:\n",
    "        hyeunde_dist.append(distance(lat1,lon1,35.1816217,129.1751215))\n",
    "apartment_busan['gangnam_dist'] = hyeunde_dist"
   ]
  },
  {
   "cell_type": "code",
   "execution_count": null,
   "metadata": {},
   "outputs": [],
   "source": [
    "apartment = pd.concat([apartment_seoul,apartment_busan])\n",
    "apartment.to_csv(\"Apartment_ga_hd.csv\",index=False)"
   ]
  }
 ],
 "metadata": {
  "kernelspec": {
   "display_name": "Python 3",
   "language": "python",
   "name": "python3"
  },
  "language_info": {
   "codemirror_mode": {
    "name": "ipython",
    "version": 3
   },
   "file_extension": ".py",
   "mimetype": "text/x-python",
   "name": "python",
   "nbconvert_exporter": "python",
   "pygments_lexer": "ipython3",
   "version": "3.7.3"
  }
 },
 "nbformat": 4,
 "nbformat_minor": 2
}
