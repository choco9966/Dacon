{
 "cells": [
  {
   "cell_type": "markdown",
   "metadata": {},
   "source": [
    "## 패키지 불러오기 "
   ]
  },
  {
   "cell_type": "code",
   "execution_count": null,
   "metadata": {},
   "outputs": [],
   "source": [
    "import pandas as pd # 데이터 전처리\n",
    "import numpy as np # 데이터 전처리\n",
    "import matplotlib.pyplot as plt # 데이터 시각화\n",
    "\n",
    "from datetime import datetime, timedelta # 시간 데이터 처리\n",
    "from statsmodels.tsa.arima_model import ARIMA # ARIMA 모델\n",
    "from tqdm import tqdm_notebook\n",
    "%matplotlib inline"
   ]
  },
  {
   "cell_type": "markdown",
   "metadata": {},
   "source": [
    "## 데이터 불러오기 "
   ]
  },
  {
   "cell_type": "code",
   "execution_count": null,
   "metadata": {},
   "outputs": [],
   "source": [
    "path = 'C:/Users/choco/Desktop/Github/Dacon/Energy Bigdata Utilization/'\n",
    "train = pd.read_csv(path + \"input/train2.csv\")\n",
    "test = pd.read_csv(path + \"input/test2.csv\")\n",
    "submission = pd.read_csv(path + \"input/submission_1002.csv\")\n",
    "new_df = pd.read_csv(path + 'input/new_df_test.csv')"
   ]
  },
  {
   "cell_type": "code",
   "execution_count": null,
   "metadata": {},
   "outputs": [],
   "source": [
    "new_df=new_df.set_index('time') # time을 인덱스로 저장합니다.\n",
    "new_df.head()"
   ]
  },
  {
   "cell_type": "markdown",
   "metadata": {},
   "source": [
    "## ARIMA 모델링\n",
    "https://dacon.io/cpt11/204148"
   ]
  },
  {
   "cell_type": "code",
   "execution_count": null,
   "metadata": {},
   "outputs": [],
   "source": [
    "set_range = range(0, 3)\n",
    "pdq = []\n",
    "\n",
    "for p in set_range:\n",
    "    for d in set_range:\n",
    "        for q in set_range:\n",
    "            pdq.append((p, d, q))"
   ]
  },
  {
   "cell_type": "code",
   "execution_count": null,
   "metadata": {},
   "outputs": [],
   "source": [
    "def get_optimal_params(y):\n",
    "\n",
    "    param_dict = {}\n",
    "    for param in pdq:\n",
    "        try:\n",
    "            model = ARIMA(y, order=param)\n",
    "            results_ARIMA = model.fit(disp=-1)\n",
    "            param_dict[results_ARIMA.aic] = param\n",
    "        except:\n",
    "            continue\n",
    "\n",
    "    min_aic = min(param_dict.keys())\n",
    "    optimal_params = param_dict[min_aic]\n",
    "    return optimal_params"
   ]
  },
  {
   "cell_type": "code",
   "execution_count": null,
   "metadata": {},
   "outputs": [],
   "source": [
    "def get_arima_model(data):\n",
    "    agg={}\n",
    "    for key in tqdm_notebook(data['place_id'].unique()): # 미터ID 200개의 리스트를 unique()함수를 통해 추출합니다.\n",
    "        temp = data.loc[data['place_id']==key] # 미터ID 하나를 할당합니다.\n",
    "        temp_1h=temp.resample('1h').sum() # 1시간 단위로 정리합니다.\n",
    "        temp_1day=temp.resample('D').sum() # 1일 단위로 정리합니다.\n",
    "\n",
    "        # 시간별 예측\n",
    "        model = ARIMA(temp_1h['target'], order=get_optimal_params(temp_1h['target'])) # AIC를 최소화하는 최적의 파라미터로 모델링합니다.\n",
    "        results_ARIMA = model.fit(disp=-1)\n",
    "        fcst = results_ARIMA.forecast(24) # 24시간을 예측합니다.\n",
    "\n",
    "        a = pd.DataFrame() # a라는 데이터프레임에 예측값을 정리합니다.\n",
    "\n",
    "        for i in range(24):\n",
    "            a['X2018_7_1_'+str(i+1)+'h']=[fcst[0][i]] # column명을 submission 형태에 맞게 지정합니다.\n",
    "\n",
    "\n",
    "        # 일별 예측\n",
    "        model = ARIMA(temp_1day['target'], order=get_optimal_params(temp_1day['target'])) # AIC를 최소화하는 최적의 파라미터로 모델링합니다.\n",
    "        results_ARIMA = model.fit(disp=-1)\n",
    "        fcst = results_ARIMA.forecast(10) # 10일을 예측합니다.\n",
    "\n",
    "        for i in range(10):\n",
    "            a['X2018_7_'+str(i+1)+'_d']=[fcst[0][i]] # column명을 submission 형태에 맞게 지정합니다.\n",
    "\n",
    "\n",
    "        # 월별 예측\n",
    "        # 일별로 예측하여 7월 ~ 11월의 일 수에 맞게 나누어 합산합니다.\n",
    "        fcst = results_ARIMA.forecast(153)\n",
    "        a['X2018_7_m'] = [np.sum(fcst[0][:31])] # 7월 \n",
    "        a['X2018_8_m'] = [np.sum(fcst[0][31:62])] # 8월\n",
    "        a['X2018_9_m'] = [np.sum(fcst[0][62:92])] # 9월\n",
    "        a['X2018_10_m'] = [np.sum(fcst[0][92:123])] # 10월\n",
    "        a['X2018_11_m'] = [np.sum(fcst[0][123:153])] # 11월\n",
    "\n",
    "        a['meter_id'] = key \n",
    "        agg[key] = a[submission.columns.tolist()]\n",
    "    print('---- Modeling Done ----')\n",
    "    return agg "
   ]
  },
  {
   "cell_type": "code",
   "execution_count": null,
   "metadata": {},
   "outputs": [],
   "source": [
    "agg = get_arima_model(new_df)"
   ]
  },
  {
   "cell_type": "markdown",
   "metadata": {},
   "source": [
    "## 제출"
   ]
  },
  {
   "cell_type": "code",
   "execution_count": null,
   "metadata": {},
   "outputs": [],
   "source": [
    "output1 = pd.concat(agg, ignore_index=False)\n",
    "output2 = output1.reset_index().drop(['level_0','level_1'], axis=1)\n",
    "output2['id'] = output2['meter_id'].str.replace('X','').astype(int)\n",
    "output2 =  output2.sort_values(by='id', ascending=True).drop(['id'], axis=1).reset_index(drop=True)\n",
    "output2.to_csv(path + '/Output/sub_baseline_arima.csv', index=False)"
   ]
  }
 ],
 "metadata": {
  "kernelspec": {
   "display_name": "Python 3",
   "language": "python",
   "name": "python3"
  },
  "language_info": {
   "codemirror_mode": {
    "name": "ipython",
    "version": 3
   },
   "file_extension": ".py",
   "mimetype": "text/x-python",
   "name": "python",
   "nbconvert_exporter": "python",
   "pygments_lexer": "ipython3",
   "version": "3.7.3"
  }
 },
 "nbformat": 4,
 "nbformat_minor": 2
}
