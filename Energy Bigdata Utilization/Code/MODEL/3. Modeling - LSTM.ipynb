{
 "cells": [
  {
   "cell_type": "markdown",
   "metadata": {},
   "source": [
    "# 에너지 빅데이터 활용 데이터 사이언스 콘테스트"
   ]
  },
  {
   "cell_type": "markdown",
   "metadata": {},
   "source": [
    "## 전력수요예측 대회\n",
    "\n",
    "- **작성일 : 2019-10-21**\n",
    "- **팀명 : TEAM-EDA**\n",
    "- **작성자 : 김현우, 이해중**"
   ]
  },
  {
   "cell_type": "markdown",
   "metadata": {},
   "source": [
    "## 요약(Executive Summary)"
   ]
  },
  {
   "cell_type": "markdown",
   "metadata": {},
   "source": [
    "./.."
   ]
  },
  {
   "cell_type": "markdown",
   "metadata": {},
   "source": [
    "## 목적(Objectives)"
   ]
  },
  {
   "cell_type": "markdown",
   "metadata": {},
   "source": [
    "본 대회에서는, 기존 전력 사용 기록과 기상 데이터 등 공공 데이터를 이용하여, 각 가정 및 회사의 시간별, 일별, 월별 전력 사용량을 예측합니다. 2018년 7월1일부터 2018년 11월 30일까지의 에너지 사용량을 예측합니다. 보다 정확히는 다음을 예측합니다.\n",
    "\n",
    " \n",
    "- 2018년 7월 1일 00시부터 24시까지, 24시간, ‘시간당 전력사용량’ (24게)\n",
    "\n",
    "- 2018년 7월 1일부터 7월10일까지, 10일간, ‘일간 전력사용량’ (10개)\n",
    "\n",
    "- 2018년 7월부터 11월까지, 5개월간, ‘월간 전력사용량’ (5개)\n",
    "\n",
    " \n",
    "즉 각 세대(또는 상가)당 39개(24개,10개,5개)의 값을 예측해야 합니다."
   ]
  },
  {
   "cell_type": "markdown",
   "metadata": {},
   "source": [
    "## 방법(Methods)"
   ]
  },
  {
   "cell_type": "markdown",
   "metadata": {},
   "source": [
    "- **LSTM을 사용한 예측**\n",
    "\n",
    "<img src=\"https://drive.google.com/uc?export=view&id=1grE7ej4N2y89A_mGTfNEBtWE8C2Ndb0Z\" width=\"600\" height=\"400\">"
   ]
  },
  {
   "cell_type": "markdown",
   "metadata": {},
   "source": [
    "## 데이터(Data)\n",
    "\n",
    "### 데이터 기술\n",
    "\n",
    "> **과거 16-18년도 당시 인천 기상 예측 데이터 제공**\n",
    "\n",
    "1. **train.csv**\n",
    "\n",
    "    - 국내(인천지역) 특정 지역의 모 아파트 및 모 상가의 전력사용량. (1300호)  \n",
    "    - 2016년 7월 26일 11시 ~ 2018년 6월 30일 24시까지 시간 당 전력사용량  \n",
    "\n",
    "\n",
    "2. **test.csv**\n",
    "\n",
    "    - 국내(인천지역) 특정 지역의 모 아파트 및 모 상가의 전력사용량. (200호)  \n",
    "    - 2017년 7월 1일 00시 ~ 2018년 6월 30일 24시까지 시간 당 전력사용량\n",
    "    - train의 세대와 다른 세대\n",
    "\n",
    "\n",
    "3. **submission.csv**\n",
    "    - test셋에 제시된 세대(상가)에 대한 예측값들을 제출하는 포맷\n",
    "\n",
    "\n"
   ]
  },
  {
   "cell_type": "markdown",
   "metadata": {},
   "source": [
    "### 중요변수 기술\n",
    "\n",
    "> **시간(TimeSeries)** : O  \n",
    "> \n",
    "> **기상 데이터** : X\n",
    "\n",
    "\n",
    "### 데이터 크기도 기술\n",
    "\n",
    "> \n"
   ]
  },
  {
   "cell_type": "code",
   "execution_count": 2,
   "metadata": {
    "ExecuteTime": {
     "end_time": "2019-10-27T11:27:08.024839Z",
     "start_time": "2019-10-27T11:27:01.763834Z"
    }
   },
   "outputs": [],
   "source": [
    "import pandas as pd\n",
    "from tqdm import tqdm_notebook \n",
    "import matplotlib.pyplot as plt\n",
    "import seaborn as sns\n",
    "import numpy as np\n",
    "\n",
    "sns.set_style('whitegrid')\n",
    "plt.rcParams[\"figure.figsize\"] = (14,5)\n",
    "plt.rcParams['axes.grid'] = True \n",
    "\n",
    "train_data = pd.read_csv('input/train.csv')\n",
    "test_data = pd.read_csv('input/test.csv')\n",
    "submission_data = pd.read_csv('input/submission_1002.csv', index_col = 'meter_id').astype('float')\n",
    "\n",
    "# 기상 데이터 불러오기\n",
    "weather_data_hour = pd.read_csv('input/인천_시간별__기상자료(16-18)_축소__7월1일.csv', engine = 'python')\n",
    "weather_data_hour['일시'] = pd.to_datetime(weather_data_hour.일시)\n",
    "weather_data_hour = weather_data_hour.set_index('일시')\n",
    "\n",
    "weather_data_day = pd.read_csv('input/인천_일별_기상자료(16-18)_축소.csv', engine = 'python')\n",
    "weather_data_day['일시'] = pd.to_datetime(weather_data_day.일시)\n",
    "weather_data_day = weather_data_day.set_index('일시')\n",
    "\n",
    "# weather_data_month = pd.read_csv('input/인천_월별_기상자료(16-18)_축소.csv', engine = 'python')\n",
    "# weather_data_month['일시'] = pd.to_datetime(weather_data_month.일시)\n",
    "# weather_data_month = weather_data_month.set_index('일시')\n",
    "\n",
    "# Train Data datetime 변경\n",
    "train_data['Time'] = pd.to_datetime(train_data.Time)\n",
    "train_data = train_data.set_index('Time')\n",
    "\n",
    "# Test Data datetime 변경\n",
    "test_data['Time'] = pd.to_datetime(test_data.Time)\n",
    "test_data = test_data.set_index('Time')"
   ]
  },
  {
   "cell_type": "code",
   "execution_count": 7,
   "metadata": {
    "ExecuteTime": {
     "end_time": "2019-10-27T11:27:51.007665Z",
     "start_time": "2019-10-27T11:27:50.994665Z"
    },
    "scrolled": true
   },
   "outputs": [
    {
     "name": "stdout",
     "output_type": "stream",
     "text": [
      "train shape :  (16909, 1300)\n",
      "test shape :  (8760, 200)\n",
      "submission shape :  (200, 39)\n",
      "weather_data_hour : (17088, 8)\n",
      "weather_data_day : (721, 4)\n"
     ]
    }
   ],
   "source": [
    "print('train shape : ',train_data.shape)\n",
    "print('test shape : ',test_data.shape)\n",
    "print('submission shape : ',submission_data.shape)\n",
    "print(\"weather_data_hour :\", weather_data_hour.shape)\n",
    "print(\"weather_data_day :\", weather_data_day.shape)"
   ]
  },
  {
   "cell_type": "code",
   "execution_count": 11,
   "metadata": {
    "ExecuteTime": {
     "end_time": "2019-10-27T11:28:12.091827Z",
     "start_time": "2019-10-27T11:28:12.075824Z"
    }
   },
   "outputs": [
    {
     "data": {
      "text/html": [
       "<div>\n",
       "<style scoped>\n",
       "    .dataframe tbody tr th:only-of-type {\n",
       "        vertical-align: middle;\n",
       "    }\n",
       "\n",
       "    .dataframe tbody tr th {\n",
       "        vertical-align: top;\n",
       "    }\n",
       "\n",
       "    .dataframe thead th {\n",
       "        text-align: right;\n",
       "    }\n",
       "</style>\n",
       "<table border=\"1\" class=\"dataframe\">\n",
       "  <thead>\n",
       "    <tr style=\"text-align: right;\">\n",
       "      <th></th>\n",
       "      <th>X26</th>\n",
       "      <th>X303</th>\n",
       "      <th>X241</th>\n",
       "      <th>X435</th>\n",
       "      <th>X402</th>\n",
       "      <th>X352</th>\n",
       "      <th>X305</th>\n",
       "      <th>X350</th>\n",
       "      <th>X326</th>\n",
       "      <th>X299</th>\n",
       "      <th>...</th>\n",
       "      <th>X107</th>\n",
       "      <th>X230</th>\n",
       "      <th>지점</th>\n",
       "      <th>기온(°C)</th>\n",
       "      <th>강수량(mm)</th>\n",
       "      <th>풍속(m/s)</th>\n",
       "      <th>습도(%)</th>\n",
       "      <th>적설(cm)</th>\n",
       "      <th>날씨</th>\n",
       "      <th>전운량(10분위)</th>\n",
       "    </tr>\n",
       "    <tr>\n",
       "      <th>Time</th>\n",
       "      <th></th>\n",
       "      <th></th>\n",
       "      <th></th>\n",
       "      <th></th>\n",
       "      <th></th>\n",
       "      <th></th>\n",
       "      <th></th>\n",
       "      <th></th>\n",
       "      <th></th>\n",
       "      <th></th>\n",
       "      <th></th>\n",
       "      <th></th>\n",
       "      <th></th>\n",
       "      <th></th>\n",
       "      <th></th>\n",
       "      <th></th>\n",
       "      <th></th>\n",
       "      <th></th>\n",
       "      <th></th>\n",
       "      <th></th>\n",
       "      <th></th>\n",
       "    </tr>\n",
       "  </thead>\n",
       "  <tbody>\n",
       "    <tr>\n",
       "      <th>2017-07-01 00:00:00</th>\n",
       "      <td>NaN</td>\n",
       "      <td>NaN</td>\n",
       "      <td>NaN</td>\n",
       "      <td>NaN</td>\n",
       "      <td>NaN</td>\n",
       "      <td>NaN</td>\n",
       "      <td>NaN</td>\n",
       "      <td>NaN</td>\n",
       "      <td>NaN</td>\n",
       "      <td>NaN</td>\n",
       "      <td>...</td>\n",
       "      <td>0.021</td>\n",
       "      <td>NaN</td>\n",
       "      <td>112</td>\n",
       "      <td>22.8</td>\n",
       "      <td>0.0</td>\n",
       "      <td>2.1</td>\n",
       "      <td>91.0</td>\n",
       "      <td>0.0</td>\n",
       "      <td>0.0</td>\n",
       "      <td>8.0</td>\n",
       "    </tr>\n",
       "    <tr>\n",
       "      <th>2017-07-01 01:00:00</th>\n",
       "      <td>NaN</td>\n",
       "      <td>NaN</td>\n",
       "      <td>NaN</td>\n",
       "      <td>NaN</td>\n",
       "      <td>NaN</td>\n",
       "      <td>NaN</td>\n",
       "      <td>NaN</td>\n",
       "      <td>NaN</td>\n",
       "      <td>NaN</td>\n",
       "      <td>NaN</td>\n",
       "      <td>...</td>\n",
       "      <td>0.021</td>\n",
       "      <td>NaN</td>\n",
       "      <td>112</td>\n",
       "      <td>22.7</td>\n",
       "      <td>0.0</td>\n",
       "      <td>2.4</td>\n",
       "      <td>92.0</td>\n",
       "      <td>0.0</td>\n",
       "      <td>0.0</td>\n",
       "      <td>8.0</td>\n",
       "    </tr>\n",
       "    <tr>\n",
       "      <th>2017-07-01 02:00:00</th>\n",
       "      <td>NaN</td>\n",
       "      <td>NaN</td>\n",
       "      <td>NaN</td>\n",
       "      <td>NaN</td>\n",
       "      <td>NaN</td>\n",
       "      <td>NaN</td>\n",
       "      <td>NaN</td>\n",
       "      <td>NaN</td>\n",
       "      <td>NaN</td>\n",
       "      <td>NaN</td>\n",
       "      <td>...</td>\n",
       "      <td>0.021</td>\n",
       "      <td>NaN</td>\n",
       "      <td>112</td>\n",
       "      <td>22.3</td>\n",
       "      <td>0.0</td>\n",
       "      <td>1.9</td>\n",
       "      <td>95.0</td>\n",
       "      <td>0.0</td>\n",
       "      <td>0.0</td>\n",
       "      <td>8.0</td>\n",
       "    </tr>\n",
       "    <tr>\n",
       "      <th>2017-07-01 03:00:00</th>\n",
       "      <td>NaN</td>\n",
       "      <td>NaN</td>\n",
       "      <td>NaN</td>\n",
       "      <td>NaN</td>\n",
       "      <td>NaN</td>\n",
       "      <td>NaN</td>\n",
       "      <td>NaN</td>\n",
       "      <td>NaN</td>\n",
       "      <td>NaN</td>\n",
       "      <td>NaN</td>\n",
       "      <td>...</td>\n",
       "      <td>0.020</td>\n",
       "      <td>NaN</td>\n",
       "      <td>112</td>\n",
       "      <td>22.0</td>\n",
       "      <td>0.0</td>\n",
       "      <td>1.8</td>\n",
       "      <td>95.0</td>\n",
       "      <td>0.0</td>\n",
       "      <td>0.0</td>\n",
       "      <td>8.0</td>\n",
       "    </tr>\n",
       "    <tr>\n",
       "      <th>2017-07-01 04:00:00</th>\n",
       "      <td>NaN</td>\n",
       "      <td>NaN</td>\n",
       "      <td>NaN</td>\n",
       "      <td>NaN</td>\n",
       "      <td>NaN</td>\n",
       "      <td>NaN</td>\n",
       "      <td>NaN</td>\n",
       "      <td>NaN</td>\n",
       "      <td>NaN</td>\n",
       "      <td>NaN</td>\n",
       "      <td>...</td>\n",
       "      <td>0.021</td>\n",
       "      <td>NaN</td>\n",
       "      <td>112</td>\n",
       "      <td>21.8</td>\n",
       "      <td>0.0</td>\n",
       "      <td>2.4</td>\n",
       "      <td>95.0</td>\n",
       "      <td>0.0</td>\n",
       "      <td>0.0</td>\n",
       "      <td>8.0</td>\n",
       "    </tr>\n",
       "  </tbody>\n",
       "</table>\n",
       "<p>5 rows × 208 columns</p>\n",
       "</div>"
      ],
      "text/plain": [
       "                     X26  X303  X241  X435  X402  X352  X305  X350  X326  \\\n",
       "Time                                                                       \n",
       "2017-07-01 00:00:00  NaN   NaN   NaN   NaN   NaN   NaN   NaN   NaN   NaN   \n",
       "2017-07-01 01:00:00  NaN   NaN   NaN   NaN   NaN   NaN   NaN   NaN   NaN   \n",
       "2017-07-01 02:00:00  NaN   NaN   NaN   NaN   NaN   NaN   NaN   NaN   NaN   \n",
       "2017-07-01 03:00:00  NaN   NaN   NaN   NaN   NaN   NaN   NaN   NaN   NaN   \n",
       "2017-07-01 04:00:00  NaN   NaN   NaN   NaN   NaN   NaN   NaN   NaN   NaN   \n",
       "\n",
       "                     X299  ...   X107  X230   지점  기온(°C)  강수량(mm)  풍속(m/s)  \\\n",
       "Time                       ...                                               \n",
       "2017-07-01 00:00:00   NaN  ...  0.021   NaN  112    22.8      0.0      2.1   \n",
       "2017-07-01 01:00:00   NaN  ...  0.021   NaN  112    22.7      0.0      2.4   \n",
       "2017-07-01 02:00:00   NaN  ...  0.021   NaN  112    22.3      0.0      1.9   \n",
       "2017-07-01 03:00:00   NaN  ...  0.020   NaN  112    22.0      0.0      1.8   \n",
       "2017-07-01 04:00:00   NaN  ...  0.021   NaN  112    21.8      0.0      2.4   \n",
       "\n",
       "                     습도(%)  적설(cm)   날씨  전운량(10분위)  \n",
       "Time                                                \n",
       "2017-07-01 00:00:00   91.0     0.0  0.0        8.0  \n",
       "2017-07-01 01:00:00   92.0     0.0  0.0        8.0  \n",
       "2017-07-01 02:00:00   95.0     0.0  0.0        8.0  \n",
       "2017-07-01 03:00:00   95.0     0.0  0.0        8.0  \n",
       "2017-07-01 04:00:00   95.0     0.0  0.0        8.0  \n",
       "\n",
       "[5 rows x 208 columns]"
      ]
     },
     "execution_count": 11,
     "metadata": {},
     "output_type": "execute_result"
    }
   ],
   "source": [
    "data_hour.head()"
   ]
  },
  {
   "cell_type": "markdown",
   "metadata": {},
   "source": [
    "\n",
    "### EDA나 시각화 결과도 필요시 기술"
   ]
  },
  {
   "cell_type": "markdown",
   "metadata": {},
   "source": [
    "#### test data 전처리"
   ]
  },
  {
   "cell_type": "code",
   "execution_count": 12,
   "metadata": {
    "ExecuteTime": {
     "end_time": "2019-10-27T11:28:15.538852Z",
     "start_time": "2019-10-27T11:28:14.994824Z"
    }
   },
   "outputs": [
    {
     "data": {
      "image/png": "[encoded data removed]",
      "text/plain": [
       "<Figure size 1800x720 with 2 Axes>"
      ]
     },
     "metadata": {
      "needs_background": "light"
     },
     "output_type": "display_data"
    }
   ],
   "source": [
    "import missingno as msno\n",
    "\n",
    "# 매트리스 형태로 누락데이터를 시각화하는 명령\n",
    "# 누락 데이터는 흰색\n",
    "# 가장 오른쪽에 있는 것은 스파크라인(spark line) : 각 행의 데이터 완성도를 표현한다.\n",
    "msno.matrix(data_hour)\n",
    "plt.title(\"Visualize missing data in matrix form\", fontsize=30)\n",
    "plt.show()"
   ]
  },
  {
   "cell_type": "code",
   "execution_count": 15,
   "metadata": {
    "ExecuteTime": {
     "end_time": "2019-10-27T11:28:54.355286Z",
     "start_time": "2019-10-27T11:28:53.817260Z"
    }
   },
   "outputs": [
    {
     "data": {
      "image/png": "[encoded data removed]",
      "text/plain": [
       "<Figure size 1728x720 with 2 Axes>"
      ]
     },
     "metadata": {
      "needs_background": "light"
     },
     "output_type": "display_data"
    }
   ],
   "source": [
    "# 각 열의 누락데이터가 얼마나 존재하는지에 대해서만 시각화\n",
    "msno.bar(test_data)\n",
    "plt.title(\"Percentage of data missing in each column\", fontsize=30)\n",
    "plt.show()"
   ]
  },
  {
   "cell_type": "markdown",
   "metadata": {},
   "source": [
    "> **Problem 1** : Test Data의 결측치가 너무 많다.  \n",
    "\n",
    "> **Action 1** : `GroupBy`를 사용하여 **평균값** 대입 (월(0), 화(1), 수(2), 목(3), 금(4), 토(5), 일(6) /Hour(0~23)의 조합)  \n",
    "  \n",
    "> \n",
    "> **Example**: \n",
    ">\n",
    ">| 요일 | 시간 | 요일-시간 (Period) |\n",
    "| :--: | :--: | :--: |\n",
    "| 월요일 | 00:00:00 | 0-0 |\n",
    "| 월요일 | 01:00:00 | 0-1 | \n",
    "| 월요일 | 02:00:00 | 0-2 | \n",
    "| $\\vdots$ | $\\vdots$ | $\\vdots$ |\n",
    "| 일요일 | 22:00:00 | 6-22 |\n",
    "| 일요일 | 23:00:00 | 6-23 |"
   ]
  },
  {
   "cell_type": "code",
   "execution_count": 16,
   "metadata": {
    "ExecuteTime": {
     "end_time": "2019-10-27T11:29:06.256040Z",
     "start_time": "2019-10-27T11:28:56.930278Z"
    }
   },
   "outputs": [],
   "source": [
    "# 파생변수 설정 : 요일-시간(Period) 으로 GroupBy를 위한 키값 생성\n",
    "data_hour['Period'] = data_hour.index.weekday.map(str) + '-' + test_data.index.hour.map(str)\n",
    "\n",
    "# Column 별 위의 방법을 사용하여 결측치 대입\n",
    "test_data_prp1 = data_hour.reset_index()\n",
    "test_data_prp2 = test_data_prp1.groupby('Period').apply(lambda g: g.fillna(g.mean())).set_index('Time').sort_index()\n",
    "test_data_prp2.drop(['Period'], axis='columns', inplace=True)"
   ]
  },
  {
   "cell_type": "code",
   "execution_count": 17,
   "metadata": {
    "ExecuteTime": {
     "end_time": "2019-10-27T11:29:07.705045Z",
     "start_time": "2019-10-27T11:29:07.170015Z"
    },
    "scrolled": false
   },
   "outputs": [
    {
     "data": {
      "image/png": "[encoded data removed]",
      "text/plain": [
       "<Figure size 1800x720 with 2 Axes>"
      ]
     },
     "metadata": {
      "needs_background": "light"
     },
     "output_type": "display_data"
    }
   ],
   "source": [
    "msno.matrix(test_data_prp2)\n",
    "plt.title(\"Visualization after preprocessing\", fontsize=30)\n",
    "plt.show()"
   ]
  },
  {
   "cell_type": "code",
   "execution_count": 22,
   "metadata": {
    "ExecuteTime": {
     "end_time": "2019-10-27T11:30:09.185726Z",
     "start_time": "2019-10-27T11:30:09.089724Z"
    }
   },
   "outputs": [
    {
     "data": {
      "text/html": [
       "<div>\n",
       "<style scoped>\n",
       "    .dataframe tbody tr th:only-of-type {\n",
       "        vertical-align: middle;\n",
       "    }\n",
       "\n",
       "    .dataframe tbody tr th {\n",
       "        vertical-align: top;\n",
       "    }\n",
       "\n",
       "    .dataframe thead th {\n",
       "        text-align: right;\n",
       "    }\n",
       "</style>\n",
       "<table border=\"1\" class=\"dataframe\">\n",
       "  <thead>\n",
       "    <tr style=\"text-align: right;\">\n",
       "      <th></th>\n",
       "      <th>X26</th>\n",
       "      <th>X303</th>\n",
       "      <th>X241</th>\n",
       "      <th>X435</th>\n",
       "      <th>X402</th>\n",
       "      <th>X352</th>\n",
       "      <th>X305</th>\n",
       "      <th>X350</th>\n",
       "      <th>X326</th>\n",
       "      <th>X299</th>\n",
       "      <th>...</th>\n",
       "      <th>X107</th>\n",
       "      <th>X230</th>\n",
       "      <th>지점</th>\n",
       "      <th>기온(°C)</th>\n",
       "      <th>강수량(mm)</th>\n",
       "      <th>풍속(m/s)</th>\n",
       "      <th>습도(%)</th>\n",
       "      <th>적설(cm)</th>\n",
       "      <th>날씨</th>\n",
       "      <th>전운량(10분위)</th>\n",
       "    </tr>\n",
       "    <tr>\n",
       "      <th>Time</th>\n",
       "      <th></th>\n",
       "      <th></th>\n",
       "      <th></th>\n",
       "      <th></th>\n",
       "      <th></th>\n",
       "      <th></th>\n",
       "      <th></th>\n",
       "      <th></th>\n",
       "      <th></th>\n",
       "      <th></th>\n",
       "      <th></th>\n",
       "      <th></th>\n",
       "      <th></th>\n",
       "      <th></th>\n",
       "      <th></th>\n",
       "      <th></th>\n",
       "      <th></th>\n",
       "      <th></th>\n",
       "      <th></th>\n",
       "      <th></th>\n",
       "      <th></th>\n",
       "    </tr>\n",
       "  </thead>\n",
       "  <tbody>\n",
       "    <tr>\n",
       "      <th>2017-07-01 00:00:00</th>\n",
       "      <td>1.213</td>\n",
       "      <td>0.356</td>\n",
       "      <td>0.243</td>\n",
       "      <td>0.279</td>\n",
       "      <td>0.184</td>\n",
       "      <td>0.140</td>\n",
       "      <td>0.274</td>\n",
       "      <td>0.246</td>\n",
       "      <td>0.055</td>\n",
       "      <td>0.150</td>\n",
       "      <td>...</td>\n",
       "      <td>0.021</td>\n",
       "      <td>0.345</td>\n",
       "      <td>112</td>\n",
       "      <td>22.8</td>\n",
       "      <td>0.0</td>\n",
       "      <td>2.1</td>\n",
       "      <td>91.0</td>\n",
       "      <td>0.0</td>\n",
       "      <td>0.0</td>\n",
       "      <td>8.0</td>\n",
       "    </tr>\n",
       "    <tr>\n",
       "      <th>2017-07-01 01:00:00</th>\n",
       "      <td>1.212</td>\n",
       "      <td>0.542</td>\n",
       "      <td>0.252</td>\n",
       "      <td>0.338</td>\n",
       "      <td>0.195</td>\n",
       "      <td>0.166</td>\n",
       "      <td>0.376</td>\n",
       "      <td>0.281</td>\n",
       "      <td>0.072</td>\n",
       "      <td>0.208</td>\n",
       "      <td>...</td>\n",
       "      <td>0.021</td>\n",
       "      <td>0.347</td>\n",
       "      <td>112</td>\n",
       "      <td>22.7</td>\n",
       "      <td>0.0</td>\n",
       "      <td>2.4</td>\n",
       "      <td>92.0</td>\n",
       "      <td>0.0</td>\n",
       "      <td>0.0</td>\n",
       "      <td>8.0</td>\n",
       "    </tr>\n",
       "    <tr>\n",
       "      <th>2017-07-01 02:00:00</th>\n",
       "      <td>1.227</td>\n",
       "      <td>0.464</td>\n",
       "      <td>0.269</td>\n",
       "      <td>0.326</td>\n",
       "      <td>0.192</td>\n",
       "      <td>0.150</td>\n",
       "      <td>0.345</td>\n",
       "      <td>0.282</td>\n",
       "      <td>0.068</td>\n",
       "      <td>0.226</td>\n",
       "      <td>...</td>\n",
       "      <td>0.021</td>\n",
       "      <td>0.333</td>\n",
       "      <td>112</td>\n",
       "      <td>22.3</td>\n",
       "      <td>0.0</td>\n",
       "      <td>1.9</td>\n",
       "      <td>95.0</td>\n",
       "      <td>0.0</td>\n",
       "      <td>0.0</td>\n",
       "      <td>8.0</td>\n",
       "    </tr>\n",
       "    <tr>\n",
       "      <th>2017-07-01 03:00:00</th>\n",
       "      <td>1.207</td>\n",
       "      <td>0.416</td>\n",
       "      <td>0.258</td>\n",
       "      <td>0.317</td>\n",
       "      <td>0.190</td>\n",
       "      <td>0.144</td>\n",
       "      <td>0.347</td>\n",
       "      <td>0.310</td>\n",
       "      <td>0.068</td>\n",
       "      <td>0.210</td>\n",
       "      <td>...</td>\n",
       "      <td>0.020</td>\n",
       "      <td>0.313</td>\n",
       "      <td>112</td>\n",
       "      <td>22.0</td>\n",
       "      <td>0.0</td>\n",
       "      <td>1.8</td>\n",
       "      <td>95.0</td>\n",
       "      <td>0.0</td>\n",
       "      <td>0.0</td>\n",
       "      <td>8.0</td>\n",
       "    </tr>\n",
       "    <tr>\n",
       "      <th>2017-07-01 04:00:00</th>\n",
       "      <td>1.473</td>\n",
       "      <td>0.485</td>\n",
       "      <td>0.314</td>\n",
       "      <td>0.330</td>\n",
       "      <td>0.190</td>\n",
       "      <td>0.144</td>\n",
       "      <td>0.328</td>\n",
       "      <td>0.284</td>\n",
       "      <td>0.072</td>\n",
       "      <td>0.219</td>\n",
       "      <td>...</td>\n",
       "      <td>0.021</td>\n",
       "      <td>0.318</td>\n",
       "      <td>112</td>\n",
       "      <td>21.8</td>\n",
       "      <td>0.0</td>\n",
       "      <td>2.4</td>\n",
       "      <td>95.0</td>\n",
       "      <td>0.0</td>\n",
       "      <td>0.0</td>\n",
       "      <td>8.0</td>\n",
       "    </tr>\n",
       "  </tbody>\n",
       "</table>\n",
       "<p>5 rows × 208 columns</p>\n",
       "</div>"
      ],
      "text/plain": [
       "                       X26   X303   X241   X435   X402   X352   X305   X350  \\\n",
       "Time                                                                          \n",
       "2017-07-01 00:00:00  1.213  0.356  0.243  0.279  0.184  0.140  0.274  0.246   \n",
       "2017-07-01 01:00:00  1.212  0.542  0.252  0.338  0.195  0.166  0.376  0.281   \n",
       "2017-07-01 02:00:00  1.227  0.464  0.269  0.326  0.192  0.150  0.345  0.282   \n",
       "2017-07-01 03:00:00  1.207  0.416  0.258  0.317  0.190  0.144  0.347  0.310   \n",
       "2017-07-01 04:00:00  1.473  0.485  0.314  0.330  0.190  0.144  0.328  0.284   \n",
       "\n",
       "                      X326   X299  ...   X107   X230   지점  기온(°C)  강수량(mm)  \\\n",
       "Time                               ...                                       \n",
       "2017-07-01 00:00:00  0.055  0.150  ...  0.021  0.345  112    22.8      0.0   \n",
       "2017-07-01 01:00:00  0.072  0.208  ...  0.021  0.347  112    22.7      0.0   \n",
       "2017-07-01 02:00:00  0.068  0.226  ...  0.021  0.333  112    22.3      0.0   \n",
       "2017-07-01 03:00:00  0.068  0.210  ...  0.020  0.313  112    22.0      0.0   \n",
       "2017-07-01 04:00:00  0.072  0.219  ...  0.021  0.318  112    21.8      0.0   \n",
       "\n",
       "                     풍속(m/s)  습도(%)  적설(cm)   날씨  전운량(10분위)  \n",
       "Time                                                         \n",
       "2017-07-01 00:00:00      2.1   91.0     0.0  0.0        8.0  \n",
       "2017-07-01 01:00:00      2.4   92.0     0.0  0.0        8.0  \n",
       "2017-07-01 02:00:00      1.9   95.0     0.0  0.0        8.0  \n",
       "2017-07-01 03:00:00      1.8   95.0     0.0  0.0        8.0  \n",
       "2017-07-01 04:00:00      2.4   95.0     0.0  0.0        8.0  \n",
       "\n",
       "[5 rows x 208 columns]"
      ]
     },
     "execution_count": 22,
     "metadata": {},
     "output_type": "execute_result"
    }
   ],
   "source": [
    "test_data_prp2 = test_data_prp2.round(3)\n",
    "test_data_prp2.head(5)"
   ]
  },
  {
   "cell_type": "code",
   "execution_count": 24,
   "metadata": {
    "ExecuteTime": {
     "end_time": "2019-10-27T11:30:18.441519Z",
     "start_time": "2019-10-27T11:30:18.326518Z"
    }
   },
   "outputs": [
    {
     "data": {
      "image/png": "[encoded data removed]",
      "text/plain": [
       "<Figure size 432x288 with 1 Axes>"
      ]
     },
     "metadata": {
      "needs_background": "light"
     },
     "output_type": "display_data"
    }
   ],
   "source": [
    "# 전처리 전 : 186X의 Trend\n",
    "\n",
    "x = 'X186'\n",
    "start = 0\n",
    "dt = 24*360\n",
    "plt.title('Trend line of '+ x + \" 's before applying preprocess\")\n",
    "plt.plot(test_data[x][start:start+dt])\n",
    "plt.ylabel(\"power\")\n",
    "plt.xlabel(\"time-delta\")\n",
    "plt.show()"
   ]
  },
  {
   "cell_type": "code",
   "execution_count": 25,
   "metadata": {
    "ExecuteTime": {
     "end_time": "2019-10-27T11:30:20.164521Z",
     "start_time": "2019-10-27T11:30:20.057521Z"
    }
   },
   "outputs": [
    {
     "data": {
      "image/png": "[encoded data removed]",
      "text/plain": [
       "<Figure size 432x288 with 1 Axes>"
      ]
     },
     "metadata": {
      "needs_background": "light"
     },
     "output_type": "display_data"
    }
   ],
   "source": [
    "# 전처리 후 : 186의 Trend\n",
    "\n",
    "x = 'X186'\n",
    "start = 0\n",
    "dt = 24*360\n",
    "plt.title('Trend line of '+ x + \" 's after applying preprocess\")\n",
    "plt.plot(test_data_prp2[x][start:start+dt])\n",
    "plt.ylabel(\"power\")\n",
    "plt.xlabel(\"time-delta\")\n",
    "plt.show()"
   ]
  },
  {
   "cell_type": "markdown",
   "metadata": {},
   "source": [
    "#### Train / Test 데이터 만들기\n",
    "\n",
    "<img src=\"https://drive.google.com/uc?export=view&id=1hMaf6oHdNOGOA96u7TEwFVvVhv-Eu4m3\" width=\"800\" height=\"400\">"
   ]
  },
  {
   "cell_type": "code",
   "execution_count": 26,
   "metadata": {
    "ExecuteTime": {
     "end_time": "2019-10-27T11:30:28.015431Z",
     "start_time": "2019-10-27T11:30:23.333270Z"
    },
    "scrolled": true
   },
   "outputs": [
    {
     "name": "stdout",
     "output_type": "stream",
     "text": [
      "tensorflow version: 1.14.0\n",
      "GPU 사용 가능 여부: True\n"
     ]
    }
   ],
   "source": [
    "from __future__ import absolute_import\n",
    "from __future__ import division\n",
    "from __future__ import print_function\n",
    "from __future__ import unicode_literals\n",
    "\n",
    "from tensorflow.keras import layers\n",
    "import tensorflow as tf\n",
    "# import check_util.checker as checker\n",
    "from IPython.display import clear_output\n",
    "import os\n",
    "import time\n",
    "import glob\n",
    "import csv\n",
    "\n",
    "import numpy as np\n",
    "import matplotlib.pyplot as plt\n",
    "%matplotlib inline\n",
    "\n",
    "tf.enable_eager_execution()\n",
    "print('tensorflow version: {}'.format(tf.__version__))\n",
    "print('GPU 사용 가능 여부: {}'.format(tf.test.is_gpu_available()))"
   ]
  },
  {
   "cell_type": "code",
   "execution_count": 27,
   "metadata": {
    "ExecuteTime": {
     "end_time": "2019-10-27T11:30:32.878434Z",
     "start_time": "2019-10-27T11:30:32.872432Z"
    }
   },
   "outputs": [],
   "source": [
    "def make_dataset(data, seq_length=480, target_delay=24, strides=5,\n",
    "                 mode='train', train_mean=None, train_std=None):\n",
    "    '''\n",
    "        각 인수에 대한 설명은 위의 'Dataset만들기' 설명을 참고하세요.\n",
    "    '''\n",
    "    assert mode in ['train', 'val', 'test']\n",
    "    if mode is not 'train':\n",
    "        if train_mean is None or train_std is None:\n",
    "            print('Current mode is {}'.format(mode))\n",
    "            print('This mode needs mean and std of train data')\n",
    "            assert False\n",
    "\n",
    "    # 정규화\n",
    "    if mode is 'train':\n",
    "        mean = np.mean(data , axis = 0)   \n",
    "        std = np.std(data, axis = 0)    \n",
    "    else: \n",
    "        mean = train_mean\n",
    "        std = train_std\n",
    "    data = (data - mean)/std\n",
    "\n",
    "    \n",
    "    # 입력, 타겟 데이터 생성\n",
    "    train_sequence = []\n",
    "    train_target = []\n",
    "    # Test 데이터 생성\n",
    "    test_sequence = []\n",
    "    for index in range(len(data)):\n",
    "        if index % strides == 0 and index <= (len(data) - seq_length - target_delay):\n",
    "            train_sequence.append(data[index:index+seq_length])    \n",
    "            train_target.append(data[index+seq_length+target_delay-1][0])\n",
    "        elif index > (len(data) - seq_length - target_delay) and index <= (len(data) - seq_length):\n",
    "            test_sequence.append(data[index:index+seq_length])\n",
    "        \n",
    "    if mode is 'train':\n",
    "        return np.array(train_sequence), np.array(train_target), mean, std, np.array(test_sequence)\n",
    "    else:\n",
    "        return np.array(sequence), np.array(target)"
   ]
  },
  {
   "cell_type": "code",
   "execution_count": 104,
   "metadata": {
    "ExecuteTime": {
     "end_time": "2019-10-27T11:37:37.580463Z",
     "start_time": "2019-10-27T11:37:37.575463Z"
    }
   },
   "outputs": [],
   "source": [
    "# 하드코딩 부분...-> 모든 데이터 시도 필요!\n",
    "train_data_np = np.array(test_data_prp2[['X5','기온(°C)', '강수량(mm)', '습도(%)']])\n",
    "# train_data_np = train_data_np.reshape(len(test_data_prp2['X5']),1)\n",
    "#train_data_np = np.array(test_data_prp2[['X5','기온(°C)', '강수량(mm)', '습도(%)', '적설(cm)', '날씨', '전운량(10분위)']])"
   ]
  },
  {
   "cell_type": "code",
   "execution_count": 105,
   "metadata": {
    "ExecuteTime": {
     "end_time": "2019-10-27T11:37:38.659466Z",
     "start_time": "2019-10-27T11:37:38.656465Z"
    }
   },
   "outputs": [
    {
     "data": {
      "text/plain": [
       "(8760, 4)"
      ]
     },
     "execution_count": 105,
     "metadata": {},
     "output_type": "execute_result"
    }
   ],
   "source": [
    "np.shape(train_data_np)"
   ]
  },
  {
   "cell_type": "code",
   "execution_count": 161,
   "metadata": {
    "ExecuteTime": {
     "end_time": "2019-10-27T11:44:01.019361Z",
     "start_time": "2019-10-27T11:44:00.984326Z"
    }
   },
   "outputs": [],
   "source": [
    "seq_length = 24*20\n",
    "target_delay = 24\n",
    "strides = 2\n",
    "train_sequences, train_labels, train_mean, train_std, test_sequences = make_dataset(\n",
    "    train_data_np, seq_length, target_delay, strides, mode='train')"
   ]
  },
  {
   "cell_type": "markdown",
   "metadata": {},
   "source": [
    "#### 하이퍼파라미터 세팅"
   ]
  },
  {
   "cell_type": "code",
   "execution_count": 162,
   "metadata": {
    "ExecuteTime": {
     "end_time": "2019-10-27T11:44:01.023327Z",
     "start_time": "2019-10-27T11:44:01.020325Z"
    }
   },
   "outputs": [],
   "source": [
    "batch_size = 128*4 # 128로 한 경우 시간이 더 오래 소요됨\n",
    "max_epochs = 30\n",
    "learning_rate = 3e-4\n",
    "hidden_sizes = [30, 30]  # hidden_sizes must be a list"
   ]
  },
  {
   "cell_type": "code",
   "execution_count": 163,
   "metadata": {
    "ExecuteTime": {
     "end_time": "2019-10-27T11:44:01.029355Z",
     "start_time": "2019-10-27T11:44:01.024324Z"
    }
   },
   "outputs": [],
   "source": [
    "# batch_size = 128*4 # 128로 한 경우 시간이 더 오래 소요됨\n",
    "# max_epochs = 30\n",
    "# learning_rate = 3e-4\n",
    "# hidden_sizes = [30, 30]  # hidden_sizes must be a list"
   ]
  },
  {
   "cell_type": "markdown",
   "metadata": {},
   "source": [
    "#### Input pipeline 만들기"
   ]
  },
  {
   "cell_type": "code",
   "execution_count": 164,
   "metadata": {
    "ExecuteTime": {
     "end_time": "2019-10-27T11:44:01.037327Z",
     "start_time": "2019-10-27T11:44:01.030329Z"
    }
   },
   "outputs": [],
   "source": [
    "# shuffle의 인자로 buffer_size가 필요한데 이는 전체 데이터셋 갯수로 하는게 좋습니다.\n",
    "N = BUFFER_SIZE = len(train_sequences)  # number of samples in train_dataset\n",
    "train_dataset = tf.data.Dataset.from_tensor_slices(\n",
    "    (train_sequences, train_labels))\n",
    "train_dataset = train_dataset.shuffle(BUFFER_SIZE)\n",
    "train_dataset = train_dataset.batch(batch_size)"
   ]
  },
  {
   "cell_type": "markdown",
   "metadata": {},
   "source": [
    "#### LSTM 네트워크 설계"
   ]
  },
  {
   "cell_type": "markdown",
   "metadata": {},
   "source": [
    "우리는 LSTM 구조를 통해 기온 예측을 모델을 학습시킬 것입니다. 설계할 네트워크의 대략적인 개요는 아래 그림과 같습니다.\n",
    "\n",
    "<img src=\"http://drive.google.com/uc?export=view&id=1AjxdDivdX23DSdubayKhAAcXmWfRBSvb\"  width=\"800px\" height=\"400px\" />"
   ]
  },
  {
   "cell_type": "code",
   "execution_count": 165,
   "metadata": {
    "ExecuteTime": {
     "end_time": "2019-10-27T11:44:01.122324Z",
     "start_time": "2019-10-27T11:44:01.038359Z"
    },
    "scrolled": true
   },
   "outputs": [
    {
     "name": "stdout",
     "output_type": "stream",
     "text": [
      "Using 'tf.keras.layers.CuDNNLSTM'\n"
     ]
    }
   ],
   "source": [
    "# GPU 사용 가능한지 체크, 해당 블록은 실행만 하면 됩니다.\n",
    "if tf.test.is_gpu_available():\n",
    "    print(\"Using 'tf.keras.layers.CuDNNLSTM'\")\n",
    "    rnn_layer = tf.keras.layers.CuDNNLSTM\n",
    "else:\n",
    "    print(\"Using `tf.keras.layers.LSTM`\")\n",
    "    rnn_layer = tf.keras.layers.LSTM"
   ]
  },
  {
   "cell_type": "code",
   "execution_count": 166,
   "metadata": {
    "ExecuteTime": {
     "end_time": "2019-10-27T11:44:01.128324Z",
     "start_time": "2019-10-27T11:44:01.123324Z"
    }
   },
   "outputs": [],
   "source": [
    "class SimpleLSTM(tf.keras.Model):\n",
    "    def __init__(self, hidden_sizes):\n",
    "        super(SimpleLSTM, self).__init__()\n",
    "        assert isinstance(hidden_sizes, list)\n",
    "        ## 코드 시작 ##\n",
    "        self.hidden_sizes = hidden_sizes         \n",
    "        self.num_layers = len(hidden_sizes)   \n",
    "        ## 코드 종료 ##\n",
    "        \n",
    "        # RNN 층 쌓기\n",
    "        ## 코드 시작 ##\n",
    "        self.rnn = []\n",
    "        for i in range(self.num_layers-1):\n",
    "            self.rnn.append(layers.CuDNNLSTM(units=hidden_sizes[i], return_sequences=True))  \n",
    "        self.rnn.append(layers.CuDNNLSTM(hidden_sizes[-1], return_sequences=False))       \n",
    "        ## 코드 종료 ##\n",
    "        \n",
    "        # Dense 층 만들기\n",
    "        ## 코드 시작 ##\n",
    "        self.dense = layers.Dense(units=1, input_shape=(hidden_sizes[-1],))\n",
    "        ## 코드 종료 ##\n",
    "\n",
    "    def call(self, x):\n",
    "        # 입력 데이터인 x 가 RNN 층 > Dense 층 통과\n",
    "        # 코드 시작\n",
    "        for i in range(self.num_layers):\n",
    "            x = self.rnn[i](x)       \n",
    "        x = self.dense(x)             \n",
    "        ## 코드 종료 ##\n",
    "\n",
    "        return x"
   ]
  },
  {
   "cell_type": "code",
   "execution_count": 167,
   "metadata": {
    "ExecuteTime": {
     "end_time": "2019-10-27T11:44:01.324325Z",
     "start_time": "2019-10-27T11:44:01.129324Z"
    }
   },
   "outputs": [],
   "source": [
    "model = SimpleLSTM(hidden_sizes)\n",
    "for step, (sequences, targets) in enumerate(train_dataset.take(1)):\n",
    "    predictions = model(sequences)"
   ]
  },
  {
   "cell_type": "code",
   "execution_count": 168,
   "metadata": {
    "ExecuteTime": {
     "end_time": "2019-10-27T11:44:01.343333Z",
     "start_time": "2019-10-27T11:44:01.326330Z"
    }
   },
   "outputs": [
    {
     "name": "stdout",
     "output_type": "stream",
     "text": [
      "Model: \"simple_lstm_6\"\n",
      "_________________________________________________________________\n",
      "Layer (type)                 Output Shape              Param #   \n",
      "=================================================================\n",
      "cu_dnnlstm_12 (CuDNNLSTM)    multiple                  4320      \n",
      "_________________________________________________________________\n",
      "cu_dnnlstm_13 (CuDNNLSTM)    multiple                  7440      \n",
      "_________________________________________________________________\n",
      "dense_6 (Dense)              multiple                  31        \n",
      "=================================================================\n",
      "Total params: 11,791\n",
      "Trainable params: 11,791\n",
      "Non-trainable params: 0\n",
      "_________________________________________________________________\n"
     ]
    }
   ],
   "source": [
    "model.summary()"
   ]
  },
  {
   "cell_type": "markdown",
   "metadata": {},
   "source": [
    "####  Loss function, Optimizer 정의"
   ]
  },
  {
   "cell_type": "code",
   "execution_count": 169,
   "metadata": {
    "ExecuteTime": {
     "end_time": "2019-10-27T11:44:01.352327Z",
     "start_time": "2019-10-27T11:44:01.344330Z"
    }
   },
   "outputs": [],
   "source": [
    "## 코드 시작 ##\n",
    "loss_object = tf.keras.losses.MeanAbsolutePercentageError()\n",
    "\n",
    "# MAPE\n",
    "# def loss_object(A, F):\n",
    "#     return 100/len(A) * np.sum(2 * np.abs(F - A) / (np.abs(A) + np.abs(F)))\n",
    "\n",
    "optimizer =  tf.train.AdamOptimizer(learning_rate)\n",
    "## 코드 종료 ##\n",
    "\n",
    "# record loss for every epoch\n",
    "mean_loss = tf.keras.metrics.Mean(\"loss\")"
   ]
  },
  {
   "cell_type": "markdown",
   "metadata": {},
   "source": [
    "#### train 함수 정의"
   ]
  },
  {
   "cell_type": "code",
   "execution_count": 170,
   "metadata": {
    "ExecuteTime": {
     "end_time": "2019-10-27T11:44:01.360327Z",
     "start_time": "2019-10-27T11:44:01.354329Z"
    }
   },
   "outputs": [],
   "source": [
    "def train_step(model, sequences, targets):\n",
    "    ## 코드 시작 ##\n",
    "    with tf.GradientTape() as tape:\n",
    "        predictions = model(sequences)\n",
    "        loss_value = loss_object(tf.squeeze(predictions), targets)\n",
    "\n",
    "    gradients = tape.gradient(target=loss_value, sources=model.variables)\n",
    "    optimizer.apply_gradients(grads_and_vars=zip(gradients, model.variables))\n",
    "    ## 코드 종료 ##\n",
    "\n",
    "    return loss_value"
   ]
  },
  {
   "cell_type": "code",
   "execution_count": 171,
   "metadata": {
    "ExecuteTime": {
     "end_time": "2019-10-27T11:44:01.369325Z",
     "start_time": "2019-10-27T11:44:01.361328Z"
    }
   },
   "outputs": [],
   "source": [
    "print_steps = 30"
   ]
  },
  {
   "cell_type": "markdown",
   "metadata": {},
   "source": [
    "#### Test 하기"
   ]
  },
  {
   "cell_type": "code",
   "execution_count": 172,
   "metadata": {
    "ExecuteTime": {
     "end_time": "2019-10-27T11:44:01.376326Z",
     "start_time": "2019-10-27T11:44:01.371325Z"
    }
   },
   "outputs": [],
   "source": [
    "def main(model, train_dataset, print_steps):\n",
    "    print('Start training..')\n",
    "    num_batches_per_epoch = len(list(train_dataset))\n",
    "    global_step = 0\n",
    "    best_loss = 999999.\n",
    "\n",
    "    for epoch in range(max_epochs):\n",
    "        for step, (sequences, targets) in enumerate(train_dataset):\n",
    "\n",
    "            start_time = time.time()\n",
    "            # train_step 함수 사용하여 loss 구하기\n",
    "            ## 코드 시작 ##\n",
    "            loss_value = train_step(model, sequences, targets)\n",
    "            \n",
    "            ## 코드 종료 ##\n",
    "            mean_loss(loss_value)\n",
    "            global_step += 1\n",
    "            \n",
    "            if global_step % print_steps == 0:\n",
    "                duration = time.time() - start_time\n",
    "                examples_per_sec = batch_size / float(duration)\n",
    "                clear_output(wait=True)\n",
    "                print(\"Epochs: [{}/{}] step: [{}/{}] loss: {:.4g}  ({:.2f} examples/sec; {:.3f} sec/batch)\".format(\n",
    "                    epoch+1, max_epochs, step+1, num_batches_per_epoch,\n",
    "                    mean_loss.result(), examples_per_sec, duration))\n",
    "\n",
    "            mean_loss.reset_states()\n",
    "\n",
    "\n",
    "    print('training done..')"
   ]
  },
  {
   "cell_type": "code",
   "execution_count": 173,
   "metadata": {
    "ExecuteTime": {
     "end_time": "2019-10-27T11:44:34.748597Z",
     "start_time": "2019-10-27T11:44:01.377326Z"
    },
    "scrolled": true
   },
   "outputs": [
    {
     "name": "stdout",
     "output_type": "stream",
     "text": [
      "Epochs: [30/30] step: [9/9] loss: 1041  (7214.09 examples/sec; 0.071 sec/batch)\n",
      "training done..\n"
     ]
    }
   ],
   "source": [
    "main(model, train_dataset, print_steps)"
   ]
  },
  {
   "cell_type": "code",
   "execution_count": 174,
   "metadata": {
    "ExecuteTime": {
     "end_time": "2019-10-27T11:44:35.034597Z",
     "start_time": "2019-10-27T11:44:34.749600Z"
    },
    "scrolled": true
   },
   "outputs": [
    {
     "name": "stdout",
     "output_type": "stream",
     "text": [
      "예측 전력량: 5.692 / 실제 전력량: 5.470 / 차이: 0.222\n",
      "예측 전력량: 5.742 / 실제 전력량: 5.669 / 차이: 0.073\n",
      "예측 전력량: 5.750 / 실제 전력량: 5.568 / 차이: 0.182\n",
      "예측 전력량: 5.661 / 실제 전력량: 5.640 / 차이: 0.021\n",
      "예측 전력량: 5.644 / 실제 전력량: 5.870 / 차이: -0.226\n",
      "예측 전력량: 5.640 / 실제 전력량: 5.473 / 차이: 0.167\n",
      "예측 전력량: 5.745 / 실제 전력량: 5.037 / 차이: 0.708\n",
      "예측 전력량: 5.677 / 실제 전력량: 5.838 / 차이: -0.161\n",
      "예측 전력량: 5.688 / 실제 전력량: 6.056 / 차이: -0.368\n",
      "예측 전력량: 5.724 / 실제 전력량: 5.325 / 차이: 0.399\n"
     ]
    }
   ],
   "source": [
    "for i in range(10):\n",
    "    data_idx = np.random.randint(len(train_sequences))\n",
    "    pred = model(train_sequences[data_idx:data_idx+1, :, :]).numpy()[0, 0]\n",
    "    # 예측 전력량을 normalization 이전 상태로 되돌리는 작업\n",
    "    pred = pred * train_std[0] + train_mean[0]\n",
    "    # 실제 전력량을 normalization 이전 상태로 되돌리는 작업\n",
    "    target = float(train_labels[data_idx] * train_std[0] + train_mean[0])\n",
    "    print('예측 전력량: {:.3f} / 실제 전력량: {:.3f} / 차이: {:.3f}'.format(pred, target, pred - target))"
   ]
  },
  {
   "cell_type": "code",
   "execution_count": 175,
   "metadata": {
    "ExecuteTime": {
     "end_time": "2019-10-27T11:44:35.636595Z",
     "start_time": "2019-10-27T11:44:35.035597Z"
    }
   },
   "outputs": [
    {
     "name": "stdout",
     "output_type": "stream",
     "text": [
      "X2018_7_1_1 예측 전력량: 5.736\n",
      "X2018_7_1_2 예측 전력량: 5.735\n",
      "X2018_7_1_3 예측 전력량: 5.733\n",
      "X2018_7_1_4 예측 전력량: 5.729\n",
      "X2018_7_1_5 예측 전력량: 5.727\n",
      "X2018_7_1_6 예측 전력량: 5.725\n",
      "X2018_7_1_7 예측 전력량: 5.725\n",
      "X2018_7_1_8 예측 전력량: 5.728\n",
      "X2018_7_1_9 예측 전력량: 5.729\n",
      "X2018_7_1_10 예측 전력량: 5.732\n",
      "X2018_7_1_11 예측 전력량: 5.735\n",
      "X2018_7_1_12 예측 전력량: 5.739\n",
      "X2018_7_1_13 예측 전력량: 5.744\n",
      "X2018_7_1_14 예측 전력량: 5.752\n",
      "X2018_7_1_15 예측 전력량: 5.751\n",
      "X2018_7_1_16 예측 전력량: 5.750\n",
      "X2018_7_1_17 예측 전력량: 5.750\n",
      "X2018_7_1_18 예측 전력량: 5.749\n",
      "X2018_7_1_19 예측 전력량: 5.746\n",
      "X2018_7_1_20 예측 전력량: 5.746\n",
      "X2018_7_1_21 예측 전력량: 5.746\n",
      "X2018_7_1_22 예측 전력량: 5.743\n",
      "X2018_7_1_23 예측 전력량: 5.745\n",
      "X2018_7_1_24 예측 전력량: 5.747\n"
     ]
    }
   ],
   "source": [
    "start_hour = 'X2018_7_1_'\n",
    "start_day = 'X2018_7_'\n",
    "start_month = 'X2018_'\n",
    "\n",
    "target_label = {}\n",
    "\n",
    "for i in range(len(test_sequences)):\n",
    "    pred = model(test_sequences[i:i+1, :, :]).numpy()[0, 0]\n",
    "    # 예측 전력량을 normalization 이전 상태로 되돌리는 작업\n",
    "    pred = pred * train_std[0] + train_mean[0]\n",
    "    print('X2018_7_1_'+str(i+1)+' 예측 전력량: {:.3f}'.format(pred))\n",
    "    #target_label.append(round(pred, 6))\n",
    "    target_label[start_hour + str(i+1) + 'h'] = round(pred, 6)"
   ]
  },
  {
   "cell_type": "code",
   "execution_count": 177,
   "metadata": {
    "ExecuteTime": {
     "end_time": "2019-10-27T11:44:44.767755Z",
     "start_time": "2019-10-27T11:44:44.690755Z"
    }
   },
   "outputs": [
    {
     "data": {
      "image/png": "[encoded data removed]",
      "text/plain": [
       "<Figure size 432x288 with 1 Axes>"
      ]
     },
     "metadata": {
      "needs_background": "light"
     },
     "output_type": "display_data"
    }
   ],
   "source": [
    "plt.plot(list(target_label.values()))\n",
    "plt.title(\"X5 Prediction \")\n",
    "plt.show()"
   ]
  },
  {
   "cell_type": "markdown",
   "metadata": {},
   "source": [
    "##### X2018_7_1_1 ~ X2018_7_1_24 예측하는 부분"
   ]
  },
  {
   "cell_type": "code",
   "execution_count": 191,
   "metadata": {
    "ExecuteTime": {
     "end_time": "2019-10-27T13:52:33.934466Z",
     "start_time": "2019-10-27T13:52:33.926437Z"
    }
   },
   "outputs": [],
   "source": [
    "submission_data = pd.read_csv('input/submission_1002.csv', index_col = 'meter_id').astype('float')"
   ]
  },
  {
   "cell_type": "code",
   "execution_count": 196,
   "metadata": {
    "ExecuteTime": {
     "end_time": "2019-10-27T15:36:22.828451Z",
     "start_time": "2019-10-27T13:55:38.204419Z"
    },
    "scrolled": false
   },
   "outputs": [
    {
     "name": "stdout",
     "output_type": "stream",
     "text": [
      "Epochs: [30/30] step: [9/9] loss: 230.5  (7111.13 examples/sec; 0.072 sec/batch)\n",
      "training done..\n",
      "전운량(10분위) 의 X2018_7_1_1h ~ X2018_7_1_24h 예측 모델 학습 종료\n",
      "X2018_7_1_1 예측 전력량: 6.750\n",
      "X2018_7_1_2 예측 전력량: 6.757\n",
      "X2018_7_1_3 예측 전력량: 6.774\n",
      "X2018_7_1_4 예측 전력량: 6.800\n",
      "X2018_7_1_5 예측 전력량: 6.833\n",
      "X2018_7_1_6 예측 전력량: 6.871\n",
      "X2018_7_1_7 예측 전력량: 6.912\n",
      "X2018_7_1_8 예측 전력량: 6.952\n",
      "X2018_7_1_9 예측 전력량: 6.989\n",
      "X2018_7_1_10 예측 전력량: 7.029\n",
      "X2018_7_1_11 예측 전력량: 7.059\n",
      "X2018_7_1_12 예측 전력량: 7.074\n",
      "X2018_7_1_13 예측 전력량: 7.078\n",
      "X2018_7_1_14 예측 전력량: 7.051\n",
      "X2018_7_1_15 예측 전력량: 7.023\n",
      "X2018_7_1_16 예측 전력량: 6.985\n",
      "X2018_7_1_17 예측 전력량: 6.938\n",
      "X2018_7_1_18 예측 전력량: 6.887\n",
      "X2018_7_1_19 예측 전력량: 6.832\n",
      "X2018_7_1_20 예측 전력량: 6.772\n",
      "X2018_7_1_21 예측 전력량: 6.712\n",
      "X2018_7_1_22 예측 전력량: 6.655\n",
      "X2018_7_1_23 예측 전력량: 6.594\n",
      "X2018_7_1_24 예측 전력량: 6.552\n",
      "\n",
      "완료\n"
     ]
    }
   ],
   "source": [
    "from datetime import datetime, timedelta # 시간 데이터 처리\n",
    "\n",
    "# 제출할 csv 읽어오기\n",
    "submission_data = pd.read_csv('input/submission_1002.csv', index_col = 'meter_id').astype('float')\n",
    "\n",
    "# Parameter 설정 부분\n",
    "batch_size = 128*4 # 128로 한 경우 시간이 더 오래 소요됨\n",
    "max_epochs = 30\n",
    "learning_rate = 3e-4\n",
    "hidden_sizes = [15, 15]  # hidden_sizes must be a list\n",
    "\n",
    "# 입력 Data Set 설정 부분 \n",
    "seq_length = 24*20\n",
    "target_delay = 24\n",
    "strides = 2\n",
    "\n",
    "for i in tqdm_notebook(list(test_data_prp2.columns)):\n",
    "    '''\n",
    "    X2018_7_1_1 ~ X2018_7_1_24 예측하는 부분\n",
    "    '''\n",
    "    # X_계측기 고유 번호 \n",
    "    # 각 계측기(X)에 해당하는 데이터를 numpy array로 변형\n",
    "    train_data_np = np.array(test_data_prp2[[i,'기온(°C)', '강수량(mm)', '습도(%)']])\n",
    "    # train_data_np = train_data_np.reshape(len(test_data_prp2[i]),1)\n",
    "    \n",
    "    # Train(train_sequences, train_labels) 및 Test(test_sequences) 할 수 있도록 데이터 변형\n",
    "    train_sequences, train_labels, train_mean, train_std, test_sequences = make_dataset(\n",
    "        train_data_np, seq_length, target_delay, strides, mode='train')\n",
    "    \n",
    "    # input pipeline\n",
    "    N = BUFFER_SIZE = len(train_sequences)  # number of samples in train_dataset\n",
    "    train_dataset = tf.data.Dataset.from_tensor_slices(\n",
    "        (train_sequences, train_labels))\n",
    "    train_dataset = train_dataset.shuffle(BUFFER_SIZE)\n",
    "    train_dataset = train_dataset.batch(batch_size)    \n",
    "    \n",
    "    print(\"{0} 의 X2018_7_1_1h ~ X2018_7_1_24h 예측 모델 학습 시작\".format(i))\n",
    "    \n",
    "    # model 학습\n",
    "    \n",
    "    model = SimpleLSTM(hidden_sizes) # 차이 비교해보기\n",
    "    main(model, train_dataset, print_steps)\n",
    "    \n",
    "    # column 매핑을 위한 변수 초기화\n",
    "    start_hour = 'X2018_7_1_'\n",
    "    \n",
    "    print(\"{0} 의 X2018_7_1_1h ~ X2018_7_1_24h 예측 모델 학습 종료\".format(i))\n",
    "    \n",
    "    # target label 생성\n",
    "    target_label = {}\n",
    "\n",
    "    for j in range(len(test_sequences)):\n",
    "        pred = model(test_sequences[j:j+1, :, :]).numpy()[0, 0]\n",
    "        # 예측 전력량을 normalization 이전 상태로 되돌리는 작업\n",
    "        pred = pred * train_std[0] + train_mean[0]\n",
    "        \n",
    "        print('X2018_7_1_'+str(j+1)+' 예측 전력량: {:.3f}'.format(pred))\n",
    "        \n",
    "        target_label[start_hour + str(j+1) + 'h'] = round(pred, 6)\n",
    "        \n",
    "    # Test 값 저장하는 과정\n",
    "    submission_data.loc[i, 'X2018_7_1_1h':'X2018_7_1_24h'] = list(target_label.values())\n",
    "    submission_data.loc[i]\n",
    "    \n",
    "print(\"완료\")"
   ]
  },
  {
   "cell_type": "code",
   "execution_count": 214,
   "metadata": {
    "ExecuteTime": {
     "end_time": "2019-10-27T15:46:18.960356Z",
     "start_time": "2019-10-27T15:46:18.943355Z"
    }
   },
   "outputs": [
    {
     "data": {
      "text/html": [
       "<div>\n",
       "<style scoped>\n",
       "    .dataframe tbody tr th:only-of-type {\n",
       "        vertical-align: middle;\n",
       "    }\n",
       "\n",
       "    .dataframe tbody tr th {\n",
       "        vertical-align: top;\n",
       "    }\n",
       "\n",
       "    .dataframe thead th {\n",
       "        text-align: right;\n",
       "    }\n",
       "</style>\n",
       "<table border=\"1\" class=\"dataframe\">\n",
       "  <thead>\n",
       "    <tr style=\"text-align: right;\">\n",
       "      <th></th>\n",
       "      <th>X26</th>\n",
       "      <th>X303</th>\n",
       "      <th>X241</th>\n",
       "      <th>X435</th>\n",
       "      <th>X402</th>\n",
       "      <th>X352</th>\n",
       "      <th>X305</th>\n",
       "      <th>X350</th>\n",
       "      <th>X326</th>\n",
       "      <th>X299</th>\n",
       "      <th>...</th>\n",
       "      <th>X107</th>\n",
       "      <th>X230</th>\n",
       "      <th>지점</th>\n",
       "      <th>기온(°C)</th>\n",
       "      <th>강수량(mm)</th>\n",
       "      <th>풍속(m/s)</th>\n",
       "      <th>습도(%)</th>\n",
       "      <th>적설(cm)</th>\n",
       "      <th>날씨</th>\n",
       "      <th>전운량(10분위)</th>\n",
       "    </tr>\n",
       "    <tr>\n",
       "      <th>Time</th>\n",
       "      <th></th>\n",
       "      <th></th>\n",
       "      <th></th>\n",
       "      <th></th>\n",
       "      <th></th>\n",
       "      <th></th>\n",
       "      <th></th>\n",
       "      <th></th>\n",
       "      <th></th>\n",
       "      <th></th>\n",
       "      <th></th>\n",
       "      <th></th>\n",
       "      <th></th>\n",
       "      <th></th>\n",
       "      <th></th>\n",
       "      <th></th>\n",
       "      <th></th>\n",
       "      <th></th>\n",
       "      <th></th>\n",
       "      <th></th>\n",
       "      <th></th>\n",
       "    </tr>\n",
       "  </thead>\n",
       "  <tbody>\n",
       "    <tr>\n",
       "      <th>2017-07-01 00:00:00</th>\n",
       "      <td>1.213</td>\n",
       "      <td>0.356</td>\n",
       "      <td>0.243</td>\n",
       "      <td>0.279</td>\n",
       "      <td>0.184</td>\n",
       "      <td>0.140</td>\n",
       "      <td>0.274</td>\n",
       "      <td>0.246</td>\n",
       "      <td>0.055</td>\n",
       "      <td>0.150</td>\n",
       "      <td>...</td>\n",
       "      <td>0.021</td>\n",
       "      <td>0.345</td>\n",
       "      <td>112</td>\n",
       "      <td>22.8</td>\n",
       "      <td>0.0</td>\n",
       "      <td>2.1</td>\n",
       "      <td>91.0</td>\n",
       "      <td>0.0</td>\n",
       "      <td>0.0</td>\n",
       "      <td>8.0</td>\n",
       "    </tr>\n",
       "    <tr>\n",
       "      <th>2017-07-01 01:00:00</th>\n",
       "      <td>1.212</td>\n",
       "      <td>0.542</td>\n",
       "      <td>0.252</td>\n",
       "      <td>0.338</td>\n",
       "      <td>0.195</td>\n",
       "      <td>0.166</td>\n",
       "      <td>0.376</td>\n",
       "      <td>0.281</td>\n",
       "      <td>0.072</td>\n",
       "      <td>0.208</td>\n",
       "      <td>...</td>\n",
       "      <td>0.021</td>\n",
       "      <td>0.347</td>\n",
       "      <td>112</td>\n",
       "      <td>22.7</td>\n",
       "      <td>0.0</td>\n",
       "      <td>2.4</td>\n",
       "      <td>92.0</td>\n",
       "      <td>0.0</td>\n",
       "      <td>0.0</td>\n",
       "      <td>8.0</td>\n",
       "    </tr>\n",
       "    <tr>\n",
       "      <th>2017-07-01 02:00:00</th>\n",
       "      <td>1.227</td>\n",
       "      <td>0.464</td>\n",
       "      <td>0.269</td>\n",
       "      <td>0.326</td>\n",
       "      <td>0.192</td>\n",
       "      <td>0.150</td>\n",
       "      <td>0.345</td>\n",
       "      <td>0.282</td>\n",
       "      <td>0.068</td>\n",
       "      <td>0.226</td>\n",
       "      <td>...</td>\n",
       "      <td>0.021</td>\n",
       "      <td>0.333</td>\n",
       "      <td>112</td>\n",
       "      <td>22.3</td>\n",
       "      <td>0.0</td>\n",
       "      <td>1.9</td>\n",
       "      <td>95.0</td>\n",
       "      <td>0.0</td>\n",
       "      <td>0.0</td>\n",
       "      <td>8.0</td>\n",
       "    </tr>\n",
       "    <tr>\n",
       "      <th>2017-07-01 03:00:00</th>\n",
       "      <td>1.207</td>\n",
       "      <td>0.416</td>\n",
       "      <td>0.258</td>\n",
       "      <td>0.317</td>\n",
       "      <td>0.190</td>\n",
       "      <td>0.144</td>\n",
       "      <td>0.347</td>\n",
       "      <td>0.310</td>\n",
       "      <td>0.068</td>\n",
       "      <td>0.210</td>\n",
       "      <td>...</td>\n",
       "      <td>0.020</td>\n",
       "      <td>0.313</td>\n",
       "      <td>112</td>\n",
       "      <td>22.0</td>\n",
       "      <td>0.0</td>\n",
       "      <td>1.8</td>\n",
       "      <td>95.0</td>\n",
       "      <td>0.0</td>\n",
       "      <td>0.0</td>\n",
       "      <td>8.0</td>\n",
       "    </tr>\n",
       "    <tr>\n",
       "      <th>2017-07-01 04:00:00</th>\n",
       "      <td>1.473</td>\n",
       "      <td>0.485</td>\n",
       "      <td>0.314</td>\n",
       "      <td>0.330</td>\n",
       "      <td>0.190</td>\n",
       "      <td>0.144</td>\n",
       "      <td>0.328</td>\n",
       "      <td>0.284</td>\n",
       "      <td>0.072</td>\n",
       "      <td>0.219</td>\n",
       "      <td>...</td>\n",
       "      <td>0.021</td>\n",
       "      <td>0.318</td>\n",
       "      <td>112</td>\n",
       "      <td>21.8</td>\n",
       "      <td>0.0</td>\n",
       "      <td>2.4</td>\n",
       "      <td>95.0</td>\n",
       "      <td>0.0</td>\n",
       "      <td>0.0</td>\n",
       "      <td>8.0</td>\n",
       "    </tr>\n",
       "  </tbody>\n",
       "</table>\n",
       "<p>5 rows × 208 columns</p>\n",
       "</div>"
      ],
      "text/plain": [
       "                       X26   X303   X241   X435   X402   X352   X305   X350  \\\n",
       "Time                                                                          \n",
       "2017-07-01 00:00:00  1.213  0.356  0.243  0.279  0.184  0.140  0.274  0.246   \n",
       "2017-07-01 01:00:00  1.212  0.542  0.252  0.338  0.195  0.166  0.376  0.281   \n",
       "2017-07-01 02:00:00  1.227  0.464  0.269  0.326  0.192  0.150  0.345  0.282   \n",
       "2017-07-01 03:00:00  1.207  0.416  0.258  0.317  0.190  0.144  0.347  0.310   \n",
       "2017-07-01 04:00:00  1.473  0.485  0.314  0.330  0.190  0.144  0.328  0.284   \n",
       "\n",
       "                      X326   X299  ...   X107   X230   지점  기온(°C)  강수량(mm)  \\\n",
       "Time                               ...                                       \n",
       "2017-07-01 00:00:00  0.055  0.150  ...  0.021  0.345  112    22.8      0.0   \n",
       "2017-07-01 01:00:00  0.072  0.208  ...  0.021  0.347  112    22.7      0.0   \n",
       "2017-07-01 02:00:00  0.068  0.226  ...  0.021  0.333  112    22.3      0.0   \n",
       "2017-07-01 03:00:00  0.068  0.210  ...  0.020  0.313  112    22.0      0.0   \n",
       "2017-07-01 04:00:00  0.072  0.219  ...  0.021  0.318  112    21.8      0.0   \n",
       "\n",
       "                     풍속(m/s)  습도(%)  적설(cm)   날씨  전운량(10분위)  \n",
       "Time                                                         \n",
       "2017-07-01 00:00:00      2.1   91.0     0.0  0.0        8.0  \n",
       "2017-07-01 01:00:00      2.4   92.0     0.0  0.0        8.0  \n",
       "2017-07-01 02:00:00      1.9   95.0     0.0  0.0        8.0  \n",
       "2017-07-01 03:00:00      1.8   95.0     0.0  0.0        8.0  \n",
       "2017-07-01 04:00:00      2.4   95.0     0.0  0.0        8.0  \n",
       "\n",
       "[5 rows x 208 columns]"
      ]
     },
     "execution_count": 214,
     "metadata": {},
     "output_type": "execute_result"
    }
   ],
   "source": [
    "test_data_prp2.head()"
   ]
  },
  {
   "cell_type": "markdown",
   "metadata": {},
   "source": [
    "##### X2018_7_1 ~ X2018_7_10 예측하는 부분"
   ]
  },
  {
   "cell_type": "markdown",
   "metadata": {},
   "source": [
    "> input : **전력량**"
   ]
  },
  {
   "cell_type": "code",
   "execution_count": 218,
   "metadata": {
    "ExecuteTime": {
     "end_time": "2019-10-27T15:47:49.245803Z",
     "start_time": "2019-10-27T15:47:49.234800Z"
    }
   },
   "outputs": [],
   "source": [
    "test_data_prp2.drop(['지점', '기온(°C)', '강수량(mm)', '풍속(m/s)', '습도(%)', '적설(cm)', '날씨', '전운량(10분위)'], axis='columns', inplace=True)\n",
    "test_data_prp2_day = test_data_prp2.resample('D').sum()"
   ]
  },
  {
   "cell_type": "code",
   "execution_count": 221,
   "metadata": {
    "ExecuteTime": {
     "end_time": "2019-10-27T15:48:09.517106Z",
     "start_time": "2019-10-27T15:48:09.499106Z"
    }
   },
   "outputs": [
    {
     "data": {
      "text/html": [
       "<div>\n",
       "<style scoped>\n",
       "    .dataframe tbody tr th:only-of-type {\n",
       "        vertical-align: middle;\n",
       "    }\n",
       "\n",
       "    .dataframe tbody tr th {\n",
       "        vertical-align: top;\n",
       "    }\n",
       "\n",
       "    .dataframe thead th {\n",
       "        text-align: right;\n",
       "    }\n",
       "</style>\n",
       "<table border=\"1\" class=\"dataframe\">\n",
       "  <thead>\n",
       "    <tr style=\"text-align: right;\">\n",
       "      <th></th>\n",
       "      <th>X26</th>\n",
       "      <th>X303</th>\n",
       "      <th>X241</th>\n",
       "      <th>X435</th>\n",
       "      <th>X402</th>\n",
       "      <th>X352</th>\n",
       "      <th>X305</th>\n",
       "      <th>X350</th>\n",
       "      <th>X326</th>\n",
       "      <th>X299</th>\n",
       "      <th>...</th>\n",
       "      <th>X283</th>\n",
       "      <th>X329</th>\n",
       "      <th>X223</th>\n",
       "      <th>X266</th>\n",
       "      <th>X20</th>\n",
       "      <th>X443</th>\n",
       "      <th>X347</th>\n",
       "      <th>X75</th>\n",
       "      <th>X107</th>\n",
       "      <th>X230</th>\n",
       "    </tr>\n",
       "    <tr>\n",
       "      <th>Time</th>\n",
       "      <th></th>\n",
       "      <th></th>\n",
       "      <th></th>\n",
       "      <th></th>\n",
       "      <th></th>\n",
       "      <th></th>\n",
       "      <th></th>\n",
       "      <th></th>\n",
       "      <th></th>\n",
       "      <th></th>\n",
       "      <th></th>\n",
       "      <th></th>\n",
       "      <th></th>\n",
       "      <th></th>\n",
       "      <th></th>\n",
       "      <th></th>\n",
       "      <th></th>\n",
       "      <th></th>\n",
       "      <th></th>\n",
       "      <th></th>\n",
       "      <th></th>\n",
       "    </tr>\n",
       "  </thead>\n",
       "  <tbody>\n",
       "    <tr>\n",
       "      <th>2017-07-01</th>\n",
       "      <td>34.612</td>\n",
       "      <td>13.105</td>\n",
       "      <td>7.891</td>\n",
       "      <td>8.019</td>\n",
       "      <td>8.314</td>\n",
       "      <td>5.338</td>\n",
       "      <td>10.146</td>\n",
       "      <td>8.170</td>\n",
       "      <td>2.153</td>\n",
       "      <td>6.599</td>\n",
       "      <td>...</td>\n",
       "      <td>6.070</td>\n",
       "      <td>6.273</td>\n",
       "      <td>8.622</td>\n",
       "      <td>8.562</td>\n",
       "      <td>9.428</td>\n",
       "      <td>6.952</td>\n",
       "      <td>5.899</td>\n",
       "      <td>28.951</td>\n",
       "      <td>0.500</td>\n",
       "      <td>9.163</td>\n",
       "    </tr>\n",
       "    <tr>\n",
       "      <th>2017-07-02</th>\n",
       "      <td>36.942</td>\n",
       "      <td>15.462</td>\n",
       "      <td>8.729</td>\n",
       "      <td>8.192</td>\n",
       "      <td>8.848</td>\n",
       "      <td>5.559</td>\n",
       "      <td>12.005</td>\n",
       "      <td>8.518</td>\n",
       "      <td>2.371</td>\n",
       "      <td>6.416</td>\n",
       "      <td>...</td>\n",
       "      <td>5.604</td>\n",
       "      <td>7.136</td>\n",
       "      <td>8.681</td>\n",
       "      <td>9.345</td>\n",
       "      <td>4.278</td>\n",
       "      <td>7.383</td>\n",
       "      <td>5.769</td>\n",
       "      <td>77.281</td>\n",
       "      <td>0.500</td>\n",
       "      <td>9.319</td>\n",
       "    </tr>\n",
       "    <tr>\n",
       "      <th>2017-07-03</th>\n",
       "      <td>26.258</td>\n",
       "      <td>11.374</td>\n",
       "      <td>8.185</td>\n",
       "      <td>8.113</td>\n",
       "      <td>8.533</td>\n",
       "      <td>5.730</td>\n",
       "      <td>11.519</td>\n",
       "      <td>8.722</td>\n",
       "      <td>2.245</td>\n",
       "      <td>5.861</td>\n",
       "      <td>...</td>\n",
       "      <td>5.437</td>\n",
       "      <td>5.232</td>\n",
       "      <td>8.279</td>\n",
       "      <td>7.669</td>\n",
       "      <td>6.022</td>\n",
       "      <td>6.067</td>\n",
       "      <td>5.862</td>\n",
       "      <td>14.870</td>\n",
       "      <td>0.499</td>\n",
       "      <td>9.347</td>\n",
       "    </tr>\n",
       "    <tr>\n",
       "      <th>2017-07-04</th>\n",
       "      <td>36.449</td>\n",
       "      <td>10.294</td>\n",
       "      <td>8.157</td>\n",
       "      <td>7.853</td>\n",
       "      <td>8.975</td>\n",
       "      <td>5.459</td>\n",
       "      <td>9.432</td>\n",
       "      <td>8.251</td>\n",
       "      <td>2.435</td>\n",
       "      <td>5.759</td>\n",
       "      <td>...</td>\n",
       "      <td>5.363</td>\n",
       "      <td>4.523</td>\n",
       "      <td>7.989</td>\n",
       "      <td>7.487</td>\n",
       "      <td>4.064</td>\n",
       "      <td>5.945</td>\n",
       "      <td>5.667</td>\n",
       "      <td>26.778</td>\n",
       "      <td>0.499</td>\n",
       "      <td>8.856</td>\n",
       "    </tr>\n",
       "    <tr>\n",
       "      <th>2017-07-05</th>\n",
       "      <td>38.996</td>\n",
       "      <td>11.417</td>\n",
       "      <td>8.076</td>\n",
       "      <td>7.848</td>\n",
       "      <td>8.504</td>\n",
       "      <td>5.499</td>\n",
       "      <td>9.333</td>\n",
       "      <td>8.197</td>\n",
       "      <td>2.449</td>\n",
       "      <td>5.997</td>\n",
       "      <td>...</td>\n",
       "      <td>5.401</td>\n",
       "      <td>4.480</td>\n",
       "      <td>7.733</td>\n",
       "      <td>7.006</td>\n",
       "      <td>3.933</td>\n",
       "      <td>6.077</td>\n",
       "      <td>5.704</td>\n",
       "      <td>26.452</td>\n",
       "      <td>0.499</td>\n",
       "      <td>8.650</td>\n",
       "    </tr>\n",
       "    <tr>\n",
       "      <th>2017-07-06</th>\n",
       "      <td>37.384</td>\n",
       "      <td>12.296</td>\n",
       "      <td>7.976</td>\n",
       "      <td>7.819</td>\n",
       "      <td>8.543</td>\n",
       "      <td>5.487</td>\n",
       "      <td>9.436</td>\n",
       "      <td>8.367</td>\n",
       "      <td>2.391</td>\n",
       "      <td>6.246</td>\n",
       "      <td>...</td>\n",
       "      <td>5.374</td>\n",
       "      <td>4.320</td>\n",
       "      <td>7.973</td>\n",
       "      <td>7.153</td>\n",
       "      <td>4.800</td>\n",
       "      <td>5.883</td>\n",
       "      <td>5.414</td>\n",
       "      <td>13.426</td>\n",
       "      <td>0.499</td>\n",
       "      <td>8.837</td>\n",
       "    </tr>\n",
       "    <tr>\n",
       "      <th>2017-07-07</th>\n",
       "      <td>36.245</td>\n",
       "      <td>10.864</td>\n",
       "      <td>8.062</td>\n",
       "      <td>8.228</td>\n",
       "      <td>8.478</td>\n",
       "      <td>5.105</td>\n",
       "      <td>9.616</td>\n",
       "      <td>8.313</td>\n",
       "      <td>2.237</td>\n",
       "      <td>5.697</td>\n",
       "      <td>...</td>\n",
       "      <td>5.411</td>\n",
       "      <td>4.162</td>\n",
       "      <td>8.119</td>\n",
       "      <td>7.119</td>\n",
       "      <td>4.101</td>\n",
       "      <td>5.985</td>\n",
       "      <td>5.580</td>\n",
       "      <td>24.481</td>\n",
       "      <td>0.499</td>\n",
       "      <td>8.826</td>\n",
       "    </tr>\n",
       "    <tr>\n",
       "      <th>2017-07-08</th>\n",
       "      <td>34.612</td>\n",
       "      <td>13.105</td>\n",
       "      <td>7.891</td>\n",
       "      <td>8.019</td>\n",
       "      <td>8.314</td>\n",
       "      <td>5.338</td>\n",
       "      <td>10.146</td>\n",
       "      <td>8.170</td>\n",
       "      <td>2.153</td>\n",
       "      <td>6.599</td>\n",
       "      <td>...</td>\n",
       "      <td>6.070</td>\n",
       "      <td>6.273</td>\n",
       "      <td>8.622</td>\n",
       "      <td>8.562</td>\n",
       "      <td>9.428</td>\n",
       "      <td>6.952</td>\n",
       "      <td>5.899</td>\n",
       "      <td>24.987</td>\n",
       "      <td>0.501</td>\n",
       "      <td>9.163</td>\n",
       "    </tr>\n",
       "    <tr>\n",
       "      <th>2017-07-09</th>\n",
       "      <td>36.942</td>\n",
       "      <td>15.462</td>\n",
       "      <td>8.729</td>\n",
       "      <td>8.192</td>\n",
       "      <td>8.848</td>\n",
       "      <td>5.559</td>\n",
       "      <td>12.005</td>\n",
       "      <td>8.518</td>\n",
       "      <td>2.371</td>\n",
       "      <td>6.416</td>\n",
       "      <td>...</td>\n",
       "      <td>5.604</td>\n",
       "      <td>7.136</td>\n",
       "      <td>8.681</td>\n",
       "      <td>9.345</td>\n",
       "      <td>4.278</td>\n",
       "      <td>7.383</td>\n",
       "      <td>5.769</td>\n",
       "      <td>77.895</td>\n",
       "      <td>0.500</td>\n",
       "      <td>9.319</td>\n",
       "    </tr>\n",
       "    <tr>\n",
       "      <th>2017-07-10</th>\n",
       "      <td>26.258</td>\n",
       "      <td>11.374</td>\n",
       "      <td>8.185</td>\n",
       "      <td>8.113</td>\n",
       "      <td>8.533</td>\n",
       "      <td>5.730</td>\n",
       "      <td>11.519</td>\n",
       "      <td>8.722</td>\n",
       "      <td>2.245</td>\n",
       "      <td>5.861</td>\n",
       "      <td>...</td>\n",
       "      <td>5.437</td>\n",
       "      <td>5.232</td>\n",
       "      <td>8.279</td>\n",
       "      <td>7.669</td>\n",
       "      <td>6.022</td>\n",
       "      <td>6.067</td>\n",
       "      <td>5.862</td>\n",
       "      <td>10.637</td>\n",
       "      <td>0.499</td>\n",
       "      <td>9.347</td>\n",
       "    </tr>\n",
       "  </tbody>\n",
       "</table>\n",
       "<p>10 rows × 200 columns</p>\n",
       "</div>"
      ],
      "text/plain": [
       "               X26    X303   X241   X435   X402   X352    X305   X350   X326  \\\n",
       "Time                                                                           \n",
       "2017-07-01  34.612  13.105  7.891  8.019  8.314  5.338  10.146  8.170  2.153   \n",
       "2017-07-02  36.942  15.462  8.729  8.192  8.848  5.559  12.005  8.518  2.371   \n",
       "2017-07-03  26.258  11.374  8.185  8.113  8.533  5.730  11.519  8.722  2.245   \n",
       "2017-07-04  36.449  10.294  8.157  7.853  8.975  5.459   9.432  8.251  2.435   \n",
       "2017-07-05  38.996  11.417  8.076  7.848  8.504  5.499   9.333  8.197  2.449   \n",
       "2017-07-06  37.384  12.296  7.976  7.819  8.543  5.487   9.436  8.367  2.391   \n",
       "2017-07-07  36.245  10.864  8.062  8.228  8.478  5.105   9.616  8.313  2.237   \n",
       "2017-07-08  34.612  13.105  7.891  8.019  8.314  5.338  10.146  8.170  2.153   \n",
       "2017-07-09  36.942  15.462  8.729  8.192  8.848  5.559  12.005  8.518  2.371   \n",
       "2017-07-10  26.258  11.374  8.185  8.113  8.533  5.730  11.519  8.722  2.245   \n",
       "\n",
       "             X299  ...   X283   X329   X223   X266    X20   X443   X347  \\\n",
       "Time               ...                                                    \n",
       "2017-07-01  6.599  ...  6.070  6.273  8.622  8.562  9.428  6.952  5.899   \n",
       "2017-07-02  6.416  ...  5.604  7.136  8.681  9.345  4.278  7.383  5.769   \n",
       "2017-07-03  5.861  ...  5.437  5.232  8.279  7.669  6.022  6.067  5.862   \n",
       "2017-07-04  5.759  ...  5.363  4.523  7.989  7.487  4.064  5.945  5.667   \n",
       "2017-07-05  5.997  ...  5.401  4.480  7.733  7.006  3.933  6.077  5.704   \n",
       "2017-07-06  6.246  ...  5.374  4.320  7.973  7.153  4.800  5.883  5.414   \n",
       "2017-07-07  5.697  ...  5.411  4.162  8.119  7.119  4.101  5.985  5.580   \n",
       "2017-07-08  6.599  ...  6.070  6.273  8.622  8.562  9.428  6.952  5.899   \n",
       "2017-07-09  6.416  ...  5.604  7.136  8.681  9.345  4.278  7.383  5.769   \n",
       "2017-07-10  5.861  ...  5.437  5.232  8.279  7.669  6.022  6.067  5.862   \n",
       "\n",
       "               X75   X107   X230  \n",
       "Time                              \n",
       "2017-07-01  28.951  0.500  9.163  \n",
       "2017-07-02  77.281  0.500  9.319  \n",
       "2017-07-03  14.870  0.499  9.347  \n",
       "2017-07-04  26.778  0.499  8.856  \n",
       "2017-07-05  26.452  0.499  8.650  \n",
       "2017-07-06  13.426  0.499  8.837  \n",
       "2017-07-07  24.481  0.499  8.826  \n",
       "2017-07-08  24.987  0.501  9.163  \n",
       "2017-07-09  77.895  0.500  9.319  \n",
       "2017-07-10  10.637  0.499  9.347  \n",
       "\n",
       "[10 rows x 200 columns]"
      ]
     },
     "execution_count": 221,
     "metadata": {},
     "output_type": "execute_result"
    }
   ],
   "source": [
    "test_data_prp2_day.head(10)"
   ]
  },
  {
   "cell_type": "code",
   "execution_count": 222,
   "metadata": {
    "ExecuteTime": {
     "end_time": "2019-10-27T15:48:16.923265Z",
     "start_time": "2019-10-27T15:48:16.917265Z"
    }
   },
   "outputs": [],
   "source": [
    "def make_dataset_day(data, seq_length=480, target_delay=24, strides=5,\n",
    "                 mode='train', train_mean=None, train_std=None):\n",
    "    '''\n",
    "        각 인수에 대한 설명은 위의 'Dataset만들기' 설명을 참고하세요.\n",
    "    '''\n",
    "    assert mode in ['train', 'val', 'test']\n",
    "    if mode is not 'train':\n",
    "        if train_mean is None or train_std is None:\n",
    "            print('Current mode is {}'.format(mode))\n",
    "            print('This mode needs mean and std of train data')\n",
    "            assert False\n",
    "\n",
    "    # 정규화\n",
    "    if mode is 'train':\n",
    "        mean = np.mean(data , axis = 0)   \n",
    "        std = np.std(data, axis = 0)    \n",
    "    else: \n",
    "        mean = train_mean\n",
    "        std = train_std\n",
    "    data = (data - mean)/std\n",
    "\n",
    "    \n",
    "    # 입력, 타겟 데이터 생성\n",
    "    train_sequence = []\n",
    "    train_target = []\n",
    "    # Test 데이터 생성\n",
    "    test_sequence = []\n",
    "    for index in range(len(data)):\n",
    "        if index % strides == 0 and index <= (len(data) - seq_length - target_delay):\n",
    "            train_sequence.append(data[index:index+seq_length])    \n",
    "            train_target.append(data[index+seq_length+target_delay-1])\n",
    "        elif index > (len(data) - seq_length - target_delay) and index <= (len(data) - seq_length):\n",
    "            test_sequence.append(data[index:index+seq_length])\n",
    "        \n",
    "    if mode is 'train':\n",
    "        return np.array(train_sequence), np.array(train_target), mean, std, np.array(test_sequence)\n",
    "    else:\n",
    "        return np.array(sequence), np.array(target)"
   ]
  },
  {
   "cell_type": "code",
   "execution_count": 224,
   "metadata": {
    "ExecuteTime": {
     "end_time": "2019-10-27T15:53:35.008365Z",
     "start_time": "2019-10-27T15:49:59.828195Z"
    }
   },
   "outputs": [
    {
     "name": "stdout",
     "output_type": "stream",
     "text": [
      "Epochs: [30/30] step: [1/1] loss: 501.2  (20480.70 examples/sec; 0.025 sec/batch)\n",
      "training done..\n",
      "X230 의 X2018_7_1_d ~ X2018_7_10_d 예측 모델 학습 종료\n",
      "X2018_7_1 예측 전력량: 8.632\n",
      "X2018_7_2 예측 전력량: 8.665\n",
      "X2018_7_3 예측 전력량: 8.632\n",
      "X2018_7_4 예측 전력량: 8.602\n",
      "X2018_7_5 예측 전력량: 8.592\n",
      "X2018_7_6 예측 전력량: 8.599\n",
      "X2018_7_7 예측 전력량: 8.636\n",
      "X2018_7_8 예측 전력량: 8.665\n",
      "X2018_7_9 예측 전력량: 8.657\n",
      "X2018_7_10 예측 전력량: 8.704\n",
      "\n",
      "완료\n"
     ]
    }
   ],
   "source": [
    "from datetime import datetime, timedelta # 시간 데이터 처리\n",
    "\n",
    "# 제출할 csv 읽어오기\n",
    "# submission_data = pd.read_csv('input/submission_1002.csv', index_col = 'meter_id').astype('float')\n",
    "\n",
    "# Parameter 설정 부분\n",
    "batch_size = 128*4 # 128로 한 경우 시간이 더 오래 소요됨\n",
    "max_epochs = 30\n",
    "learning_rate = 3e-4\n",
    "hidden_sizes = [15, 15]  # hidden_sizes must be a list\n",
    "\n",
    "# 입력 Data Set 설정 부분 \n",
    "seq_length = 7*4\n",
    "target_delay = 10\n",
    "strides = 1\n",
    "\n",
    "for i in tqdm_notebook(list(test_data_prp2_day.columns)):\n",
    "    '''\n",
    "    X2018_7_1_1 ~ X2018_7_1_24 예측하는 부분\n",
    "    '''\n",
    "    # X_계측기 고유 번호 \n",
    "    # 각 계측기(X)에 해당하는 데이터를 numpy array로 변형\n",
    "    train_data_np = np.array(test_data_prp2_day[i])\n",
    "    train_data_np = train_data_np.reshape(len(test_data_prp2_day[i]),1)\n",
    "    \n",
    "    # Train(train_sequences, train_labels) 및 Test(test_sequences) 할 수 있도록 데이터 변형\n",
    "    train_sequences, train_labels, train_mean, train_std, test_sequences = make_dataset_day(\n",
    "        train_data_np, seq_length, target_delay, strides, mode='train')\n",
    "    \n",
    "    # input pipeline\n",
    "    N = BUFFER_SIZE = len(train_sequences)  # number of samples in train_dataset\n",
    "    train_dataset = tf.data.Dataset.from_tensor_slices(\n",
    "        (train_sequences, train_labels))\n",
    "    train_dataset = train_dataset.shuffle(BUFFER_SIZE)\n",
    "    train_dataset = train_dataset.batch(batch_size)    \n",
    "    \n",
    "    print(\"{0} 의 X2018_7_1_d ~ X2018_7_10_d 예측 모델 학습 시작\".format(i))\n",
    "    \n",
    "    # model 학습\n",
    "    \n",
    "    model = SimpleLSTM(hidden_sizes) # 차이 비교해보기\n",
    "    main(model, train_dataset, print_steps)\n",
    "    \n",
    "    # column 매핑을 위한 변수 초기화\n",
    "    start_day = 'X2018_7_'\n",
    "    \n",
    "    print(\"{0} 의 X2018_7_1_d ~ X2018_7_10_d 예측 모델 학습 종료\".format(i))\n",
    "    \n",
    "    # target label 생성\n",
    "    target_label = {}\n",
    "\n",
    "    for j in range(len(test_sequences)):\n",
    "        pred = model(test_sequences[j:j+1, :, :]).numpy()[0, 0]\n",
    "        # 예측 전력량을 normalization 이전 상태로 되돌리는 작업\n",
    "        pred = pred * train_std[0] + train_mean[0]\n",
    "        \n",
    "        print('X2018_7_'+str(j+1)+' 예측 전력량: {:.3f}'.format(pred))\n",
    "        \n",
    "        target_label[start_day + str(j+1) + 'd'] = round(pred, 6)\n",
    "        \n",
    "    # Test 값 저장하는 과정\n",
    "    submission_data.loc[i, 'X2018_7_1_d':'X2018_7_10_d'] = list(target_label.values())\n",
    "    \n",
    "print(\"완료\")"
   ]
  },
  {
   "cell_type": "markdown",
   "metadata": {},
   "source": [
    "##### X2018_7 ~ X2018_11 예측하는 부분"
   ]
  },
  {
   "cell_type": "markdown",
   "metadata": {},
   "source": [
    "> input : **전력량**"
   ]
  },
  {
   "cell_type": "code",
   "execution_count": 226,
   "metadata": {
    "ExecuteTime": {
     "end_time": "2019-10-27T15:54:03.285814Z",
     "start_time": "2019-10-27T15:54:03.271815Z"
    }
   },
   "outputs": [],
   "source": [
    "test_data_prp2_month = test_data_prp2.resample('M').sum()"
   ]
  },
  {
   "cell_type": "code",
   "execution_count": 227,
   "metadata": {
    "ExecuteTime": {
     "end_time": "2019-10-27T15:54:04.172816Z",
     "start_time": "2019-10-27T15:54:04.165815Z"
    }
   },
   "outputs": [],
   "source": [
    "def make_dataset_month(data, seq_length=480, target_delay=24, strides=5,\n",
    "                       mode='train', train_mean=None, train_std=None):\n",
    "    '''\n",
    "        각 인수에 대한 설명은 위의 'Dataset만들기' 설명을 참고하세요.\n",
    "    '''\n",
    "    assert mode in ['train', 'val', 'test']\n",
    "    if mode is not 'train':\n",
    "        if train_mean is None or train_std is None:\n",
    "            print('Current mode is {}'.format(mode))\n",
    "            print('This mode needs mean and std of train data')\n",
    "            assert False\n",
    "\n",
    "    # 정규화\n",
    "    if mode is 'train':\n",
    "        mean = np.mean(data , axis = 0)   \n",
    "        std = np.std(data, axis = 0)    \n",
    "    else: \n",
    "        mean = train_mean\n",
    "        std = train_std\n",
    "    data = (data - mean)/std\n",
    "\n",
    "    \n",
    "    # 입력, 타겟 데이터 생성\n",
    "    train_sequence = []\n",
    "    train_target = []\n",
    "    # Test 데이터 생성\n",
    "    test_sequence = []\n",
    "    for index in range(len(data)):\n",
    "        if index % strides == 0 and index <= (len(data) - seq_length - target_delay):\n",
    "            train_sequence.append(data[index:index+seq_length])    \n",
    "            train_target.append(data[index+seq_length+target_delay-1])\n",
    "        elif index > (len(data) - seq_length - target_delay) and index <= (len(data) - seq_length):\n",
    "            test_sequence.append(data[index:index+seq_length])\n",
    "        \n",
    "    if mode is 'train':\n",
    "        return np.array(train_sequence), np.array(train_target), mean, std, np.array(test_sequence)\n",
    "    else:\n",
    "        return np.array(sequence), np.array(target)"
   ]
  },
  {
   "cell_type": "code",
   "execution_count": 229,
   "metadata": {
    "ExecuteTime": {
     "end_time": "2019-10-27T15:58:36.062966Z",
     "start_time": "2019-10-27T15:55:23.608468Z"
    }
   },
   "outputs": [
    {
     "name": "stdout",
     "output_type": "stream",
     "text": [
      "Epochs: [30/30] step: [1/1] loss: 290.7  (21334.88 examples/sec; 0.024 sec/batch)\n",
      "training done..\n",
      "X230 의 X2018_7_m ~ X2018_7_11_m 예측 모델 학습 종료\n",
      "X2018_6 예측 전력량: 271.054\n",
      "X2018_7 예측 전력량: 270.730\n",
      "X2018_8 예측 전력량: 272.743\n",
      "X2018_9 예측 전력량: 275.243\n",
      "X2018_10 예측 전력량: 275.882\n",
      "\n",
      "완료\n"
     ]
    }
   ],
   "source": [
    "from datetime import datetime, timedelta # 시간 데이터 처리\n",
    "\n",
    "# 제출할 csv 읽어오기\n",
    "# submission_data = pd.read_csv('input/submission_1002.csv', index_col = 'meter_id').astype('float')\n",
    "\n",
    "# Parameter 설정 부분\n",
    "batch_size = 128*4 # 128로 한 경우 시간이 더 오래 소요됨\n",
    "max_epochs = 30\n",
    "learning_rate = 3e-4\n",
    "hidden_sizes = [15, 15]  # hidden_sizes must be a list\n",
    "\n",
    "# 입력 Data Set 설정 부분 \n",
    "seq_length = 4\n",
    "target_delay = 5\n",
    "strides = 1\n",
    "\n",
    "for i in tqdm_notebook(list(test_data_prp2_month.columns)):\n",
    "    '''\n",
    "    X2018_7_1_1 ~ X2018_7_1_24 예측하는 부분\n",
    "    '''\n",
    "    # X_계측기 고유 번호 \n",
    "    # 각 계측기(X)에 해당하는 데이터를 numpy array로 변형\n",
    "    train_data_np = np.array(test_data_prp2_month[i])\n",
    "    train_data_np = train_data_np.reshape(len(test_data_prp2_month[i]),1)\n",
    "    \n",
    "    # Train(train_sequences, train_labels) 및 Test(test_sequences) 할 수 있도록 데이터 변형\n",
    "    train_sequences, train_labels, train_mean, train_std, test_sequences = make_dataset_month(\n",
    "        train_data_np, seq_length, target_delay, strides, mode='train')\n",
    "    \n",
    "    # input pipeline\n",
    "    N = BUFFER_SIZE = len(train_sequences)  # number of samples in train_dataset\n",
    "    train_dataset = tf.data.Dataset.from_tensor_slices(\n",
    "        (train_sequences, train_labels))\n",
    "    train_dataset = train_dataset.shuffle(BUFFER_SIZE)\n",
    "    train_dataset = train_dataset.batch(batch_size)    \n",
    "    \n",
    "    print(\"{0} 의 X2018_7_1_d ~ X2018_7_10_d 예측 모델 학습 시작\".format(i))\n",
    "    \n",
    "    # model 학습\n",
    "    \n",
    "    model = SimpleLSTM(hidden_sizes) # 차이 비교해보기\n",
    "    main(model, train_dataset, print_steps)\n",
    "    \n",
    "    # column 매핑을 위한 변수 초기화\n",
    "    start_month = 'X2018_'\n",
    "    \n",
    "    print(\"{0} 의 X2018_7_m ~ X2018_7_11_m 예측 모델 학습 종료\".format(i))\n",
    "    \n",
    "    # target label 생성\n",
    "    target_label = {}\n",
    "\n",
    "    for j in range(len(test_sequences)):\n",
    "        pred = model(test_sequences[j:j+1, :, :]).numpy()[0, 0]\n",
    "        # 예측 전력량을 normalization 이전 상태로 되돌리는 작업\n",
    "        pred = pred * train_std[0] + train_mean[0]\n",
    "        \n",
    "        print('X2018_'+str(j+7)+' 예측 전력량: {:.3f}'.format(pred))\n",
    "        \n",
    "        target_label[start_day + str(j+1) + 'd'] = round(pred, 6)\n",
    "        \n",
    "    # Test 값 저장하는 과정\n",
    "    submission_data.loc[i, 'X2018_7_m':'X2018_11_m'] = list(target_label.values())\n",
    "    \n",
    "print(\"완료\")"
   ]
  },
  {
   "cell_type": "code",
   "execution_count": 239,
   "metadata": {
    "ExecuteTime": {
     "end_time": "2019-10-27T16:02:43.050242Z",
     "start_time": "2019-10-27T16:02:43.045242Z"
    }
   },
   "outputs": [],
   "source": [
    "submission_data = submission_data[submission_data.index.isin(list(test_data.columns))].reset_index()"
   ]
  },
  {
   "cell_type": "code",
   "execution_count": 242,
   "metadata": {
    "ExecuteTime": {
     "end_time": "2019-10-27T16:03:51.596896Z",
     "start_time": "2019-10-27T16:03:51.579923Z"
    }
   },
   "outputs": [
    {
     "data": {
      "text/html": [
       "<div>\n",
       "<style scoped>\n",
       "    .dataframe tbody tr th:only-of-type {\n",
       "        vertical-align: middle;\n",
       "    }\n",
       "\n",
       "    .dataframe tbody tr th {\n",
       "        vertical-align: top;\n",
       "    }\n",
       "\n",
       "    .dataframe thead th {\n",
       "        text-align: right;\n",
       "    }\n",
       "</style>\n",
       "<table border=\"1\" class=\"dataframe\">\n",
       "  <thead>\n",
       "    <tr style=\"text-align: right;\">\n",
       "      <th></th>\n",
       "      <th>meter_id</th>\n",
       "      <th>X2018_7_1_1h</th>\n",
       "      <th>X2018_7_1_2h</th>\n",
       "      <th>X2018_7_1_3h</th>\n",
       "      <th>X2018_7_1_4h</th>\n",
       "      <th>X2018_7_1_5h</th>\n",
       "      <th>X2018_7_1_6h</th>\n",
       "      <th>X2018_7_1_7h</th>\n",
       "      <th>X2018_7_1_8h</th>\n",
       "      <th>X2018_7_1_9h</th>\n",
       "      <th>...</th>\n",
       "      <th>X2018_7_6_d</th>\n",
       "      <th>X2018_7_7_d</th>\n",
       "      <th>X2018_7_8_d</th>\n",
       "      <th>X2018_7_9_d</th>\n",
       "      <th>X2018_7_10_d</th>\n",
       "      <th>X2018_7_m</th>\n",
       "      <th>X2018_8_m</th>\n",
       "      <th>X2018_9_m</th>\n",
       "      <th>X2018_10_m</th>\n",
       "      <th>X2018_11_m</th>\n",
       "    </tr>\n",
       "  </thead>\n",
       "  <tbody>\n",
       "    <tr>\n",
       "      <th>0</th>\n",
       "      <td>X5</td>\n",
       "      <td>5.852017</td>\n",
       "      <td>5.852807</td>\n",
       "      <td>5.852475</td>\n",
       "      <td>5.850588</td>\n",
       "      <td>5.846783</td>\n",
       "      <td>5.836962</td>\n",
       "      <td>5.820038</td>\n",
       "      <td>5.815081</td>\n",
       "      <td>5.802756</td>\n",
       "      <td>...</td>\n",
       "      <td>137.479446</td>\n",
       "      <td>137.447849</td>\n",
       "      <td>137.409830</td>\n",
       "      <td>137.444934</td>\n",
       "      <td>137.467991</td>\n",
       "      <td>4164.444266</td>\n",
       "      <td>4165.144495</td>\n",
       "      <td>4156.862874</td>\n",
       "      <td>4151.060553</td>\n",
       "      <td>4167.212620</td>\n",
       "    </tr>\n",
       "    <tr>\n",
       "      <th>1</th>\n",
       "      <td>X7</td>\n",
       "      <td>1.479460</td>\n",
       "      <td>1.491181</td>\n",
       "      <td>1.501146</td>\n",
       "      <td>1.512253</td>\n",
       "      <td>1.519118</td>\n",
       "      <td>1.524210</td>\n",
       "      <td>1.529651</td>\n",
       "      <td>1.527569</td>\n",
       "      <td>1.512519</td>\n",
       "      <td>...</td>\n",
       "      <td>35.615445</td>\n",
       "      <td>35.458502</td>\n",
       "      <td>35.563817</td>\n",
       "      <td>35.725130</td>\n",
       "      <td>36.094798</td>\n",
       "      <td>998.228936</td>\n",
       "      <td>997.688278</td>\n",
       "      <td>999.473084</td>\n",
       "      <td>1000.862801</td>\n",
       "      <td>997.809305</td>\n",
       "    </tr>\n",
       "    <tr>\n",
       "      <th>2</th>\n",
       "      <td>X10</td>\n",
       "      <td>1.756379</td>\n",
       "      <td>1.739407</td>\n",
       "      <td>1.727234</td>\n",
       "      <td>1.718085</td>\n",
       "      <td>1.712483</td>\n",
       "      <td>1.707199</td>\n",
       "      <td>1.702529</td>\n",
       "      <td>1.690312</td>\n",
       "      <td>1.689300</td>\n",
       "      <td>...</td>\n",
       "      <td>75.863937</td>\n",
       "      <td>75.880355</td>\n",
       "      <td>75.963956</td>\n",
       "      <td>75.943424</td>\n",
       "      <td>75.886678</td>\n",
       "      <td>2251.003757</td>\n",
       "      <td>2251.705415</td>\n",
       "      <td>2249.577482</td>\n",
       "      <td>2249.318691</td>\n",
       "      <td>2250.146305</td>\n",
       "    </tr>\n",
       "    <tr>\n",
       "      <th>3</th>\n",
       "      <td>X16</td>\n",
       "      <td>3.264615</td>\n",
       "      <td>3.272752</td>\n",
       "      <td>3.261994</td>\n",
       "      <td>3.237740</td>\n",
       "      <td>3.205277</td>\n",
       "      <td>3.163791</td>\n",
       "      <td>3.125595</td>\n",
       "      <td>3.087296</td>\n",
       "      <td>3.038691</td>\n",
       "      <td>...</td>\n",
       "      <td>96.332941</td>\n",
       "      <td>96.221309</td>\n",
       "      <td>96.234477</td>\n",
       "      <td>96.423909</td>\n",
       "      <td>96.585658</td>\n",
       "      <td>2824.109282</td>\n",
       "      <td>2824.918074</td>\n",
       "      <td>2820.336791</td>\n",
       "      <td>2816.699261</td>\n",
       "      <td>2823.570755</td>\n",
       "    </tr>\n",
       "    <tr>\n",
       "      <th>4</th>\n",
       "      <td>X18</td>\n",
       "      <td>2.516518</td>\n",
       "      <td>2.515918</td>\n",
       "      <td>2.514980</td>\n",
       "      <td>2.514188</td>\n",
       "      <td>2.513388</td>\n",
       "      <td>2.512708</td>\n",
       "      <td>2.513054</td>\n",
       "      <td>2.511424</td>\n",
       "      <td>2.510389</td>\n",
       "      <td>...</td>\n",
       "      <td>61.676261</td>\n",
       "      <td>61.640235</td>\n",
       "      <td>61.618280</td>\n",
       "      <td>61.639511</td>\n",
       "      <td>61.717392</td>\n",
       "      <td>1884.323511</td>\n",
       "      <td>1884.953091</td>\n",
       "      <td>1882.505857</td>\n",
       "      <td>1882.017763</td>\n",
       "      <td>1887.736830</td>\n",
       "    </tr>\n",
       "  </tbody>\n",
       "</table>\n",
       "<p>5 rows × 40 columns</p>\n",
       "</div>"
      ],
      "text/plain": [
       "  meter_id  X2018_7_1_1h  X2018_7_1_2h  X2018_7_1_3h  X2018_7_1_4h  \\\n",
       "0       X5      5.852017      5.852807      5.852475      5.850588   \n",
       "1       X7      1.479460      1.491181      1.501146      1.512253   \n",
       "2      X10      1.756379      1.739407      1.727234      1.718085   \n",
       "3      X16      3.264615      3.272752      3.261994      3.237740   \n",
       "4      X18      2.516518      2.515918      2.514980      2.514188   \n",
       "\n",
       "   X2018_7_1_5h  X2018_7_1_6h  X2018_7_1_7h  X2018_7_1_8h  X2018_7_1_9h  ...  \\\n",
       "0      5.846783      5.836962      5.820038      5.815081      5.802756  ...   \n",
       "1      1.519118      1.524210      1.529651      1.527569      1.512519  ...   \n",
       "2      1.712483      1.707199      1.702529      1.690312      1.689300  ...   \n",
       "3      3.205277      3.163791      3.125595      3.087296      3.038691  ...   \n",
       "4      2.513388      2.512708      2.513054      2.511424      2.510389  ...   \n",
       "\n",
       "   X2018_7_6_d  X2018_7_7_d  X2018_7_8_d  X2018_7_9_d  X2018_7_10_d  \\\n",
       "0   137.479446   137.447849   137.409830   137.444934    137.467991   \n",
       "1    35.615445    35.458502    35.563817    35.725130     36.094798   \n",
       "2    75.863937    75.880355    75.963956    75.943424     75.886678   \n",
       "3    96.332941    96.221309    96.234477    96.423909     96.585658   \n",
       "4    61.676261    61.640235    61.618280    61.639511     61.717392   \n",
       "\n",
       "     X2018_7_m    X2018_8_m    X2018_9_m   X2018_10_m   X2018_11_m  \n",
       "0  4164.444266  4165.144495  4156.862874  4151.060553  4167.212620  \n",
       "1   998.228936   997.688278   999.473084  1000.862801   997.809305  \n",
       "2  2251.003757  2251.705415  2249.577482  2249.318691  2250.146305  \n",
       "3  2824.109282  2824.918074  2820.336791  2816.699261  2823.570755  \n",
       "4  1884.323511  1884.953091  1882.505857  1882.017763  1887.736830  \n",
       "\n",
       "[5 rows x 40 columns]"
      ]
     },
     "execution_count": 242,
     "metadata": {},
     "output_type": "execute_result"
    }
   ],
   "source": [
    "submission_data.head(5)"
   ]
  },
  {
   "cell_type": "markdown",
   "metadata": {},
   "source": [
    "#### csv 파일 만들기"
   ]
  },
  {
   "cell_type": "code",
   "execution_count": 241,
   "metadata": {
    "ExecuteTime": {
     "end_time": "2019-10-27T16:03:25.840061Z",
     "start_time": "2019-10-27T16:03:25.826061Z"
    }
   },
   "outputs": [],
   "source": [
    "submission_data.to_csv('submission_data_lstm_1.csv', float_format = \"%.3f\", header = True)"
   ]
  },
  {
   "cell_type": "markdown",
   "metadata": {},
   "source": [
    "## 결과(Results)\n",
    "\n",
    "- 분석 결과 기술"
   ]
  },
  {
   "cell_type": "markdown",
   "metadata": {},
   "source": [
    "1. 음수가 나오는 row 발견.. 이유 찾아보기\n",
    "2. 코드 간편화 및 설명 필요"
   ]
  },
  {
   "cell_type": "markdown",
   "metadata": {},
   "source": [
    "##  토의(Discussions) \n",
    "\n",
    "- 연구 결과의 의미는 무엇인지, 다른 연구와의 관계는 어떠한지, 앞으로 연구할 주제로는 어떤것이 있는지 표기"
   ]
  },
  {
   "cell_type": "markdown",
   "metadata": {},
   "source": [
    "\n",
    "> 1. **전력**과 **상관관계**가 높은 **변수**를 같이 사용하면 좋을듯함\n",
    ">\n",
    ">| 입력데이터 | 학습 오차 | 테스트 오차 |\n",
    "| -- | :--: | :--: |\n",
    "| 전력 | - | - |\n",
    "| 전력, 기온, 습도 | - | - |\n",
    "| 전력, 기온, 일조시간 | - | - |\n",
    "| 전력, 기온, 강수량 | - | - |\n",
    "| 전력, 강수량, 일조시간 | - | - |\n",
    "| 전력, 강수량, 습도 | - | - |\n",
    "| 전력, 일조시간, 습도 | - | - |\n",
    "| 전력, 강수량, 기온, 일조시간, 습도 | - | - |\n",
    "\n",
    "- 경우에 따른 오차를 찾아 최종적으로 사용될 변수들 찾아 적용"
   ]
  },
  {
   "cell_type": "markdown",
   "metadata": {},
   "source": [
    "## 결론(Conclusions) 및 아쉬운 점"
   ]
  },
  {
   "cell_type": "markdown",
   "metadata": {},
   "source": [
    "- Validation을 할 수 있도록 동적으로 데이터 셋을 나누지 못해 아쉬움\n",
    "- LSTM에 사용되는 Parameter들의 특징을 잘 이해하기\n",
    "- 가설 및 데이터 검증 부분을 구체적으로 표기할 것 "
   ]
  }
 ],
 "metadata": {
  "hide_input": false,
  "kernelspec": {
   "display_name": "Python 3",
   "language": "python",
   "name": "python3"
  },
  "language_info": {
   "codemirror_mode": {
    "name": "ipython",
    "version": 3
   },
   "file_extension": ".py",
   "mimetype": "text/x-python",
   "name": "python",
   "nbconvert_exporter": "python",
   "pygments_lexer": "ipython3",
   "version": "3.7.3"
  },
  "toc": {
   "base_numbering": 1,
   "nav_menu": {},
   "number_sections": true,
   "sideBar": true,
   "skip_h1_title": false,
   "title_cell": "Table of Contents",
   "title_sidebar": "Contents",
   "toc_cell": false,
   "toc_position": {
    "height": "calc(100% - 180px)",
    "left": "10px",
    "top": "150px",
    "width": "341.663px"
   },
   "toc_section_display": true,
   "toc_window_display": true
  }
 },
 "nbformat": 4,
 "nbformat_minor": 2
}
