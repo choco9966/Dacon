{
 "cells": [
  {
   "cell_type": "code",
   "execution_count": 1,
   "metadata": {},
   "outputs": [],
   "source": [
    "import pandas as pd\n",
    "import numpy as np \n",
    "\n",
    "import matplotlib.pyplot as plt\n",
    "import seaborn as sns\n",
    "from plotnine import *\n",
    "from tqdm import tqdm_notebook "
   ]
  },
  {
   "cell_type": "code",
   "execution_count": 2,
   "metadata": {
    "scrolled": true
   },
   "outputs": [],
   "source": [
    "path = 'C:/Users/choco/Desktop/Github/Dacon/Energy Bigdata Utilization/'\n",
    "train = pd.read_csv(path + \"input/train.csv\")\n",
    "test = pd.read_csv(path + \"input/test.csv\")"
   ]
  },
  {
   "cell_type": "markdown",
   "metadata": {},
   "source": [
    "### 직전 시간의 전력 사용량으로 인한 결측 해결\n",
    "\n",
    "https://dacon.io/cpt11/205743"
   ]
  },
  {
   "cell_type": "code",
   "execution_count": 3,
   "metadata": {},
   "outputs": [
    {
     "data": {
      "application/vnd.jupyter.widget-view+json": {
       "model_id": "f6c77c3449cc40c88a83c6edcb235fc2",
       "version_major": 2,
       "version_minor": 0
      },
      "text/plain": [
       "HBox(children=(IntProgress(value=0, max=1300), HTML(value='')))"
      ]
     },
     "metadata": {},
     "output_type": "display_data"
    },
    {
     "name": "stdout",
     "output_type": "stream",
     "text": [
      "\n"
     ]
    }
   ],
   "source": [
    "for k in tqdm_notebook(range(1, len(train.columns))): #시간을 제외한 1열부터 마지막 열까지를 for문으로 작동시킵니다.\n",
    "    train_median=train.iloc[:,k].median() #값을 대체하는 과정에서 값이 변경 될 것을 대비해 해당 세대의 중앙값을 미리 계산하고 시작합니다.\n",
    "    counting=train.loc[ train.iloc[:,k].isnull()==False ][ train.columns[k] ].index\n",
    "\n",
    "    df=pd.DataFrame( list( zip( counting[:-1], counting[1:] - counting[:-1] -1  ) ), columns=['index','count'] )\n",
    "\n",
    "    df2= df[ (df['count'] > 0) ] #결측치가 존재하는 부분만 추출\n",
    "    df2=df2.reset_index(drop=True) #기존에 존재하는 index를 초기화 하여 이후 for문에 사용함\n",
    "\n",
    "    for i,j in zip( df2['index'], df2['count'] ) : # i = 해당 세대에서 값이 존재하는 index, j = 현재 index 밑의 결측치 갯수\n",
    "        if train.iloc[i,k]>=train_median: #현재 index에 존재하는 값이 해당 세대의 중앙 값 이상일때만 분산처리 실행\n",
    "            train.iloc[ i : i+j+1 , k] = train.iloc[i,k] / (j+1) \n",
    "            #현재 index 및 결측치의 갯수 만큼 지정을 하여, 현재 index에 있는 값을 해당 갯수만큼 나누어 줍니다\n",
    "        else:  \n",
    "            pass #현재 index에 존재하는 값이 중앙 값 미만이면 pass를 실행"
   ]
  },
  {
   "cell_type": "code",
   "execution_count": 4,
   "metadata": {},
   "outputs": [
    {
     "data": {
      "application/vnd.jupyter.widget-view+json": {
       "model_id": "2df5e24bacee4866b7c20841033cf760",
       "version_major": 2,
       "version_minor": 0
      },
      "text/plain": [
       "HBox(children=(IntProgress(value=0, max=200), HTML(value='')))"
      ]
     },
     "metadata": {},
     "output_type": "display_data"
    },
    {
     "name": "stdout",
     "output_type": "stream",
     "text": [
      "\n"
     ]
    }
   ],
   "source": [
    "for k in tqdm_notebook(range(1, len(test.columns))): #시간을 제외한 1열부터 마지막 열까지를 for문으로 작동시킵니다.\n",
    "    test_median=test.iloc[:,k].median() #값을 대체하는 과정에서 값이 변경 될 것을 대비해 해당 세대의 중앙값을 미리 계산하고 시작합니다.\n",
    "    counting=test.loc[ test.iloc[:,k].isnull()==False ][ test.columns[k] ].index\n",
    "\n",
    "    df=pd.DataFrame( list( zip( counting[:-1], counting[1:] - counting[:-1] -1  ) ), columns=['index','count'] )\n",
    "\n",
    "    df2= df[ (df['count'] > 0) ] #결측치가 존재하는 부분만 추출\n",
    "    df2=df2.reset_index(drop=True) #기존에 존재하는 index를 초기화 하여 이후 for문에 사용함\n",
    "\n",
    "    for i,j in zip( df2['index'], df2['count'] ) : # i = 해당 세대에서 값이 존재하는 index, j = 현재 index 밑의 결측치 갯수\n",
    "        if test.iloc[i,k]>=test_median: #현재 index에 존재하는 값이 해당 세대의 중앙 값 이상일때만 분산처리 실행\n",
    "            test.iloc[ i : i+j+1 , k] = test.iloc[i,k] / (j+1) \n",
    "            #현재 index 및 결측치의 갯수 만큼 지정을 하여, 현재 index에 있는 값을 해당 갯수만큼 나누어 줍니다\n",
    "        else:  \n",
    "            pass #현재 index에 존재하는 값이 중앙 값 미만이면 pass를 실행"
   ]
  },
  {
   "cell_type": "code",
   "execution_count": 5,
   "metadata": {},
   "outputs": [],
   "source": [
    "train.to_csv(path + 'input/train2.csv',index=False) #결측치 대체 작업 이후 csv 파일 내보내기\n",
    "test.to_csv(path + 'input/test2.csv',index=False) #결측치 대체 작업 이후 csv 파일 내보내기"
   ]
  },
  {
   "cell_type": "markdown",
   "metadata": {},
   "source": [
    "### 시계열에 적합한 형태로 변환\n"
   ]
  },
  {
   "cell_type": "code",
   "execution_count": 6,
   "metadata": {},
   "outputs": [],
   "source": [
    "train['Time'] = pd.to_datetime(train['Time']) \n",
    "train = train.set_index('Time')\n",
    "\n",
    "test['Time'] = pd.to_datetime(test['Time']) \n",
    "test = test.set_index('Time')"
   ]
  },
  {
   "cell_type": "code",
   "execution_count": null,
   "metadata": {},
   "outputs": [],
   "source": [
    "place_id=[]; time=[] ; target=[] # 빈 리스트를 생성합니다.\n",
    "for i in tqdm_notebook(train.columns):\n",
    "    for j in range(len(train)):\n",
    "        place_id.append(i) # place_id에 미터 ID를 정리합니다.\n",
    "        time.append(train.index[j]) # time에 시간대를 정리합니다.\n",
    "        target.append(train[i].iloc[j]) # target에 전력량을 정리합니다.\n",
    "\n",
    "new_df=pd.DataFrame({'place_id':place_id,'time':time,'target':target})\n",
    "new_df=new_df.dropna() # 결측치를 제거합니다.\n",
    "new_df=new_df.set_index('time') # time을 인덱스로 저장합니다.\n",
    "new_df.to_csv(path + \"input/new_df_train.csv\",index=True)"
   ]
  },
  {
   "cell_type": "code",
   "execution_count": null,
   "metadata": {},
   "outputs": [],
   "source": [
    "place_id=[]; time=[] ; target=[] # 빈 리스트를 생성합니다.\n",
    "for i in tqdm_notebook(test.columns):\n",
    "    for j in range(len(test)):\n",
    "        place_id.append(i) # place_id에 미터 ID를 정리합니다.\n",
    "        time.append(test.index[j]) # time에 시간대를 정리합니다.\n",
    "        target.append(test[i].iloc[j]) # target에 전력량을 정리합니다.\n",
    "\n",
    "new_df=pd.DataFrame({'place_id':place_id,'time':time,'target':target})\n",
    "new_df=new_df.dropna() # 결측치를 제거합니다.\n",
    "new_df=new_df.set_index('time') # time을 인덱스로 저장합니다.\n",
    "new_df.to_csv(path + \"input/new_df_test.csv\",index=True)"
   ]
  },
  {
   "cell_type": "markdown",
   "metadata": {},
   "source": [
    "### 정형데이터에 적합한 형태로 변환"
   ]
  },
  {
   "cell_type": "code",
   "execution_count": null,
   "metadata": {},
   "outputs": [],
   "source": [
    "from tqdm import tqdm_notebook \n",
    "\n",
    "time = []\n",
    "data = []\n",
    "meter_id = []\n",
    "for i in tqdm_notebook(np.arange(1, test2.shape[1])):\n",
    "    index = test2[test2.iloc[0:, i].notnull() == True].index\n",
    "    meter_id = np.append(meter_id, np.array([test2.columns[i]] * len(index)))\n",
    "    time = np.append(time, test2.iloc[index, 0].values)\n",
    "    data = np.append(data, test2.iloc[index, i].values)\n",
    "    \n",
    "test2_df = pd.DataFrame()\n",
    "test2_df['time'] = time\n",
    "test2_df['y'] = data\n",
    "test2_df['meter_id'] = meter_id\n",
    "test2_df.to_csv(path + \"input/test_df.csv\",index=True)"
   ]
  }
 ],
 "metadata": {
  "kernelspec": {
   "display_name": "Python 3",
   "language": "python",
   "name": "python3"
  },
  "language_info": {
   "codemirror_mode": {
    "name": "ipython",
    "version": 3
   },
   "file_extension": ".py",
   "mimetype": "text/x-python",
   "name": "python",
   "nbconvert_exporter": "python",
   "pygments_lexer": "ipython3",
   "version": "3.7.3"
  }
 },
 "nbformat": 4,
 "nbformat_minor": 2
}
