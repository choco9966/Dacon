{
 "cells": [
  {
   "cell_type": "markdown",
   "metadata": {},
   "source": [
    "## 패키지 불러오기 "
   ]
  },
  {
   "cell_type": "code",
   "execution_count": null,
   "metadata": {},
   "outputs": [],
   "source": [
    "import pandas as pd # 데이터 전처리\n",
    "import numpy as np # 데이터 전처리\n",
    "import matplotlib.pyplot as plt # 데이터 시각화\n",
    "\n",
    "from datetime import datetime, timedelta # 시간 데이터 처리\n",
    "from statsmodels.tsa.arima_model import ARIMA # ARIMA 모델\n",
    "from tqdm import tqdm_notebook\n",
    "%matplotlib inline"
   ]
  },
  {
   "cell_type": "markdown",
   "metadata": {},
   "source": [
    "## 데이터 불러오기 "
   ]
  },
  {
   "cell_type": "code",
   "execution_count": null,
   "metadata": {},
   "outputs": [],
   "source": [
    "path = 'C:/Users/choco/Desktop/Github/Dacon/Energy Bigdata Utilization/'\n",
    "train = pd.read_csv(path + \"input/train2.csv\")\n",
    "test = pd.read_csv(path + \"input/test2.csv\")\n",
    "submission = pd.read_csv(path + \"input/submission_1002.csv\")\n",
    "new_df = pd.read_csv(path + 'input/new_df_test.csv')"
   ]
  },
  {
   "cell_type": "code",
   "execution_count": null,
   "metadata": {},
   "outputs": [],
   "source": [
    "new_df=new_df.set_index('time') # time을 인덱스로 저장합니다.\n",
    "new_df.head()"
   ]
  },
  {
   "cell_type": "markdown",
   "metadata": {},
   "source": [
    "## Prophet "
   ]
  },
  {
   "cell_type": "code",
   "execution_count": null,
   "metadata": {},
   "outputs": [],
   "source": [
    "from fbprophet import Prophet\n",
    "\n",
    "def get_prophet_model(data):\n",
    "    agg = {}\n",
    "    for key in tqdm_notebook(new_df['place_id'].unique()):\n",
    "        temp = new_df[new_df['place_id'] == key]\n",
    "        temp_1h = temp.resample('1h').sum().reset_index()[['time','target']].rename(columns={'time':'ds','target':'y'})\n",
    "        temp_1day = temp.resample('D').sum().reset_index()[['time','target']].rename(columns={'time':'ds','target':'y'})\n",
    "\n",
    "        # 시간별 예측 \n",
    "        m = Prophet(daily_seasonality=True)\n",
    "        m.fit(temp_1h) \n",
    "        future = m.make_future_dataframe(periods=24, freq = 'H')\n",
    "        fcst = m.predict(future)\n",
    "        fcst = fcst.loc[fcst['ds'] >= pd.datetime(2018,7,1)][['ds','yhat']].T\n",
    "\n",
    "\n",
    "        a = pd.DataFrame() # a라는 데이터프레임에 예측값을 정리합니다.\n",
    "\n",
    "        for i in range(24):\n",
    "            a['X2018_7_1_'+str(i+1)+'h']=[fcst.iloc[1, i]] # column명을 submission 형태에 맞게 지정합니다.\n",
    "\n",
    "        m = Prophet(daily_seasonality=True)\n",
    "        m.fit(temp_1day)\n",
    "        future = m.make_future_dataframe(periods=10)\n",
    "        fcst = m.predict(future)\n",
    "        fcst = fcst.loc[fcst['ds'] >= pd.datetime(2018,7,1)][['ds','yhat']].T\n",
    "\n",
    "        for i in range(10):\n",
    "            a['X2018_7_'+str(i+1)+'_d']=[fcst.iloc[1, i]] # column명을 submission 형태에 맞게 지정합니다.\n",
    "\n",
    "        m = Prophet(daily_seasonality=True)\n",
    "        m.fit(temp_1day)\n",
    "        future = m.make_future_dataframe(periods = 5, freq = 'M')\n",
    "        fcst = m.predict(future)\n",
    "        fcst = fcst.loc[fcst['ds'] >= pd.datetime(2018,7,1)][['ds','yhat']].T\n",
    "\n",
    "        for i in range(5):\n",
    "            a['X2018_'+str(i+7)+'_m']=[fcst.iloc[1, i]] # column명을 submission 형태에 맞게 지정합니다.\n",
    "\n",
    "        a['meter_id'] = key \n",
    "        agg[key] = a[submission.columns.tolist()]\n",
    "    print('---- Modeling Done ----')\n",
    "    return agg "
   ]
  },
  {
   "cell_type": "code",
   "execution_count": null,
   "metadata": {},
   "outputs": [],
   "source": [
    "agg = get_prophet_model(new_df)"
   ]
  },
  {
   "cell_type": "code",
   "execution_count": null,
   "metadata": {},
   "outputs": [],
   "source": [
    "output1 = pd.concat(agg, ignore_index=False)\n",
    "output2 = output1.reset_index().drop(['level_0','level_1'], axis=1)\n",
    "output2['id'] = output2['meter_id'].str.replace('X','').astype(int)\n",
    "output2 =  output2.sort_values(by='id', ascending=True).drop(['id'], axis=1).reset_index(drop=True)\n",
    "output2.to_csv(path + '/Output/sub_baseline_prophet.csv', index=False)"
   ]
  }
 ],
 "metadata": {
  "kernelspec": {
   "display_name": "Python 3",
   "language": "python",
   "name": "python3"
  },
  "language_info": {
   "codemirror_mode": {
    "name": "ipython",
    "version": 3
   },
   "file_extension": ".py",
   "mimetype": "text/x-python",
   "name": "python",
   "nbconvert_exporter": "python",
   "pygments_lexer": "ipython3",
   "version": "3.7.3"
  }
 },
 "nbformat": 4,
 "nbformat_minor": 2
}
