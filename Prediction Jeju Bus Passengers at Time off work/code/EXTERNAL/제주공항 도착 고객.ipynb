{
 "cells": [
  {
   "cell_type": "code",
   "execution_count": 1,
   "metadata": {},
   "outputs": [],
   "source": [
    "import pandas as pd\n",
    "from tqdm import tqdm_notebook"
   ]
  },
  {
   "cell_type": "code",
   "execution_count": 2,
   "metadata": {},
   "outputs": [
    {
     "name": "stderr",
     "output_type": "stream",
     "text": [
      "/Users/kimkyunghwan/anaconda3/lib/python3.6/site-packages/ipykernel_launcher.py:4: TqdmDeprecationWarning: This function will be removed in tqdm==5.0.0\n",
      "Please use `tqdm.notebook.tqdm` instead of `tqdm.tqdm_notebook`\n",
      "  after removing the cwd from sys.path.\n"
     ]
    },
    {
     "data": {
      "application/vnd.jupyter.widget-view+json": {
       "model_id": "08265e05e6bc4d05b3fbc0b58d28aba0",
       "version_major": 2,
       "version_minor": 0
      },
      "text/plain": [
       "HBox(children=(IntProgress(value=0, max=3), HTML(value='')))"
      ]
     },
     "metadata": {},
     "output_type": "display_data"
    },
    {
     "name": "stderr",
     "output_type": "stream",
     "text": [
      "/Users/kimkyunghwan/anaconda3/lib/python3.6/site-packages/ipykernel_launcher.py:6: TqdmDeprecationWarning: This function will be removed in tqdm==5.0.0\n",
      "Please use `tqdm.notebook.tqdm` instead of `tqdm.tqdm_notebook`\n",
      "  \n"
     ]
    },
    {
     "data": {
      "application/vnd.jupyter.widget-view+json": {
       "model_id": "265ff7ddb9ff47668de943735d48339e",
       "version_major": 2,
       "version_minor": 0
      },
      "text/plain": [
       "HBox(children=(IntProgress(value=0, max=3), HTML(value='')))"
      ]
     },
     "metadata": {},
     "output_type": "display_data"
    },
    {
     "name": "stdout",
     "output_type": "stream",
     "text": [
      "\n"
     ]
    },
    {
     "name": "stderr",
     "output_type": "stream",
     "text": [
      "/Users/kimkyunghwan/anaconda3/lib/python3.6/site-packages/ipykernel_launcher.py:15: TqdmDeprecationWarning: This function will be removed in tqdm==5.0.0\n",
      "Please use `tqdm.notebook.tqdm` instead of `tqdm.tqdm_notebook`\n",
      "  from ipykernel import kernelapp as app\n"
     ]
    },
    {
     "data": {
      "application/vnd.jupyter.widget-view+json": {
       "model_id": "08b75ea00a084ff68e8e15e6eaba9156",
       "version_major": 2,
       "version_minor": 0
      },
      "text/plain": [
       "HBox(children=(IntProgress(value=0, max=30), HTML(value='')))"
      ]
     },
     "metadata": {},
     "output_type": "display_data"
    },
    {
     "name": "stdout",
     "output_type": "stream",
     "text": [
      "\n"
     ]
    },
    {
     "name": "stderr",
     "output_type": "stream",
     "text": [
      "/Users/kimkyunghwan/anaconda3/lib/python3.6/site-packages/ipykernel_launcher.py:24: TqdmDeprecationWarning: This function will be removed in tqdm==5.0.0\n",
      "Please use `tqdm.notebook.tqdm` instead of `tqdm.tqdm_notebook`\n"
     ]
    },
    {
     "data": {
      "application/vnd.jupyter.widget-view+json": {
       "model_id": "9c15c261fb624dfdbc38fc124dcc8467",
       "version_major": 2,
       "version_minor": 0
      },
      "text/plain": [
       "HBox(children=(IntProgress(value=0, max=16), HTML(value='')))"
      ]
     },
     "metadata": {},
     "output_type": "display_data"
    },
    {
     "name": "stdout",
     "output_type": "stream",
     "text": [
      "\n",
      "\n"
     ]
    }
   ],
   "source": [
    "date_list = []\n",
    "국내_list = []\n",
    "국제_list = []\n",
    "for month in tqdm_notebook( [8,9,10] ):\n",
    "    if month == 8:\n",
    "        for day in tqdm_notebook( range(29,32) ):\n",
    "            df = pd.read_html('https://www.airport.co.kr/www/extra/dailyExpect/dailyExpectList/layOut.do?yyyy=2019&mm='+str(month) +'&dd=' + str(day))[1]\n",
    "            df.columns = ['시간대','','','','','제주_국내','제주_국제','','','','']\n",
    "            df = df[['제주_국내','제주_국제']]\n",
    "            국내, 국제 = df.sum(axis=0).values\n",
    "            date_list.append( '2019-' + '08-' + str(day) )\n",
    "            국내_list.append(국내)\n",
    "            국제_list.append(국제)\n",
    "    if month == 9:\n",
    "        for day in tqdm_notebook( range(1,31) ):\n",
    "            df = pd.read_html('https://www.airport.co.kr/www/extra/dailyExpect/dailyExpectList/layOut.do?yyyy=2019&mm='+str(month) +'&dd=' + str(day))[1]\n",
    "            df.columns = ['시간대','','','','','제주_국내','제주_국제','','','','']\n",
    "            df = df[['제주_국내','제주_국제']]\n",
    "            국내, 국제 = df.sum(axis=0).values\n",
    "            date_list.append( '2019-' + '09-' + str(day) )\n",
    "            국내_list.append(국내)\n",
    "            국제_list.append(국제)\n",
    "    if month == 10:\n",
    "        for day in tqdm_notebook( range(1,17) ):\n",
    "            df = pd.read_html('https://www.airport.co.kr/www/extra/dailyExpect/dailyExpectList/layOut.do?yyyy=2019&mm='+str(month) +'&dd=' + str(day))[1]\n",
    "            df.columns = ['시간대','','','','','제주_국내','제주_국제','','','','']\n",
    "            df = df[['제주_국내','제주_국제']]\n",
    "            국내, 국제 = df.sum(axis=0).values\n",
    "            date_list.append( '2019-' + '10-' + str(day) )\n",
    "            국내_list.append(국내)\n",
    "            국제_list.append(국제)\n"
   ]
  },
  {
   "cell_type": "code",
   "execution_count": 3,
   "metadata": {},
   "outputs": [],
   "source": [
    "airport_df = pd.DataFrame(data = {'date' : date_list,\n",
    "                                  '국내여행객' :국내_list, \n",
    "                                  '국제여행객' :국제_list})"
   ]
  },
  {
   "cell_type": "code",
   "execution_count": 5,
   "metadata": {},
   "outputs": [],
   "source": [
    "airport_df.to_csv('df_airport.csv',index=False)"
   ]
  },
  {
   "cell_type": "code",
   "execution_count": null,
   "metadata": {},
   "outputs": [],
   "source": []
  }
 ],
 "metadata": {
  "kernelspec": {
   "display_name": "Python 3",
   "language": "python",
   "name": "python3"
  },
  "language_info": {
   "codemirror_mode": {
    "name": "ipython",
    "version": 3
   },
   "file_extension": ".py",
   "mimetype": "text/x-python",
   "name": "python",
   "nbconvert_exporter": "python",
   "pygments_lexer": "ipython3",
   "version": "3.6.8"
  },
  "latex_envs": {
   "LaTeX_envs_menu_present": true,
   "autoclose": false,
   "autocomplete": true,
   "bibliofile": "biblio.bib",
   "cite_by": "apalike",
   "current_citInitial": 1,
   "eqLabelWithNumbers": true,
   "eqNumInitial": 1,
   "hotkeys": {
    "equation": "Ctrl-E",
    "itemize": "Ctrl-I"
   },
   "labels_anchors": false,
   "latex_user_defs": false,
   "report_style_numbering": false,
   "user_envs_cfg": false
  },
  "varInspector": {
   "cols": {
    "lenName": 16,
    "lenType": 16,
    "lenVar": 40
   },
   "kernels_config": {
    "python": {
     "delete_cmd_postfix": "",
     "delete_cmd_prefix": "del ",
     "library": "var_list.py",
     "varRefreshCmd": "print(var_dic_list())"
    },
    "r": {
     "delete_cmd_postfix": ") ",
     "delete_cmd_prefix": "rm(",
     "library": "var_list.r",
     "varRefreshCmd": "cat(var_dic_list()) "
    }
   },
   "types_to_exclude": [
    "module",
    "function",
    "builtin_function_or_method",
    "instance",
    "_Feature"
   ],
   "window_display": false
  }
 },
 "nbformat": 4,
 "nbformat_minor": 2
}
